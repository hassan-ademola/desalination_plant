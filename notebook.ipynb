{
 "cells": [
  {
   "cell_type": "markdown",
   "id": "b7b28e7c",
   "metadata": {},
   "source": [
    "# Problem Statement"
   ]
  },
  {
   "cell_type": "markdown",
   "id": "39474281",
   "metadata": {},
   "source": [
    "We are interested in revealing the most significant cost drivers in the construction of a desalination plant."
   ]
  },
  {
   "cell_type": "markdown",
   "id": "3941d344",
   "metadata": {},
   "source": [
    "# Import Libraries"
   ]
  },
  {
   "cell_type": "code",
   "execution_count": 1,
   "id": "4007d393",
   "metadata": {},
   "outputs": [],
   "source": [
    "import pandas as pd\n",
    "import numpy as np\n",
    "import matplotlib.pyplot as plt\n",
    "import seaborn as sns\n",
    "import warnings\n",
    "warnings.filterwarnings('ignore')\n",
    "%matplotlib inline\n",
    "pd.set_option('display.max_columns',160)"
   ]
  },
  {
   "cell_type": "markdown",
   "id": "c4bedfce",
   "metadata": {},
   "source": [
    "# Data Inspection and Cleaning"
   ]
  },
  {
   "cell_type": "code",
   "execution_count": 2,
   "id": "450c0061",
   "metadata": {},
   "outputs": [
    {
     "data": {
      "text/html": [
       "<div>\n",
       "<style scoped>\n",
       "    .dataframe tbody tr th:only-of-type {\n",
       "        vertical-align: middle;\n",
       "    }\n",
       "\n",
       "    .dataframe tbody tr th {\n",
       "        vertical-align: top;\n",
       "    }\n",
       "\n",
       "    .dataframe thead th {\n",
       "        text-align: right;\n",
       "    }\n",
       "</style>\n",
       "<table border=\"1\" class=\"dataframe\">\n",
       "  <thead>\n",
       "    <tr style=\"text-align: right;\">\n",
       "      <th></th>\n",
       "      <th>Country</th>\n",
       "      <th>Region</th>\n",
       "      <th>Subregion</th>\n",
       "      <th>Location</th>\n",
       "      <th>State/Region</th>\n",
       "      <th>Location type</th>\n",
       "      <th>Project name</th>\n",
       "      <th>Capacity (m3/d)</th>\n",
       "      <th>Size</th>\n",
       "      <th>Capacity (MGD)</th>\n",
       "      <th>Capacity (MIGD)</th>\n",
       "      <th>Units</th>\n",
       "      <th>Unit size (m3/d)</th>\n",
       "      <th>Unit size (MGD)</th>\n",
       "      <th>Unit size (MIGD)</th>\n",
       "      <th>Technical notes</th>\n",
       "      <th>Technology</th>\n",
       "      <th>Primary Reuse Sector</th>\n",
       "      <th>Thermal design</th>\n",
       "      <th>Thermal equipment</th>\n",
       "      <th>Membrane supplier (RO)</th>\n",
       "      <th>Membrane type (RO)</th>\n",
       "      <th>ERD supplier</th>\n",
       "      <th>ERD type</th>\n",
       "      <th>DAF pretreatment supplier</th>\n",
       "      <th>DAF brand</th>\n",
       "      <th>MF/UF Pretreatment Supplier</th>\n",
       "      <th>MF/UF brand</th>\n",
       "      <th>Other pretreatment</th>\n",
       "      <th>Feedwater</th>\n",
       "      <th>Award date</th>\n",
       "      <th>Online date</th>\n",
       "      <th>Consultant</th>\n",
       "      <th>Consultant 2</th>\n",
       "      <th>Consultant 3</th>\n",
       "      <th>Customer type</th>\n",
       "      <th>Industry</th>\n",
       "      <th>Customer</th>\n",
       "      <th>Plant status</th>\n",
       "      <th>Plant type</th>\n",
       "      <th>Plant supplier</th>\n",
       "      <th>Plant supplier share</th>\n",
       "      <th>Plant supplier 2</th>\n",
       "      <th>Plant supplier 2 share</th>\n",
       "      <th>Plant supplier 3</th>\n",
       "      <th>Plant supplier 3 share</th>\n",
       "      <th>Plant supplier 4</th>\n",
       "      <th>Plant supplier 4 share</th>\n",
       "      <th>Plant supplier 5</th>\n",
       "      <th>Plant supplier 5 share</th>\n",
       "      <th>Procurement model</th>\n",
       "      <th>Concession period</th>\n",
       "      <th>Dev consortium</th>\n",
       "      <th>Developer</th>\n",
       "      <th>Dev share</th>\n",
       "      <th>Developer 2</th>\n",
       "      <th>Dev2 share</th>\n",
       "      <th>Developer 3</th>\n",
       "      <th>Dev3 share</th>\n",
       "      <th>Developer 4</th>\n",
       "      <th>Dev4 share</th>\n",
       "      <th>Developer 5</th>\n",
       "      <th>Dev5 share</th>\n",
       "      <th>Developer 6</th>\n",
       "      <th>Dev6 share</th>\n",
       "      <th>EPC price</th>\n",
       "      <th>Water price (USD/m3)</th>\n",
       "      <th>Last update</th>\n",
       "      <th>Contact</th>\n",
       "      <th>Feedwater Ph</th>\n",
       "      <th>Feedwater salinity</th>\n",
       "      <th>Feedwater temp minimum</th>\n",
       "      <th>Feedwater temp maximum</th>\n",
       "      <th>Product water salinity</th>\n",
       "      <th>Product water temp</th>\n",
       "      <th>Civil contractor (off-shore)</th>\n",
       "      <th>Civil contractor (on-shore)</th>\n",
       "      <th>Consultant.1</th>\n",
       "      <th>Developer/co-developer</th>\n",
       "      <th>ED/EDR system supplier</th>\n",
       "      <th>Engineering Consultancy</th>\n",
       "      <th>Environmental advisor</th>\n",
       "      <th>EPC contractor (desal)</th>\n",
       "      <th>EPC contractor (pipeline)</th>\n",
       "      <th>EPC contractor (power)</th>\n",
       "      <th>EPCM contractor</th>\n",
       "      <th>Equipment Supplier : Desal (unspecified)</th>\n",
       "      <th>Equipment supplier : Membranes (Not specified / Other)</th>\n",
       "      <th>Equipment Supplier: Chemical Feed System</th>\n",
       "      <th>Equipment Supplier: Energy Recovery Device</th>\n",
       "      <th>Equipment Supplier: Glass Reinforced Polyester Pipes and Fittings</th>\n",
       "      <th>Equipment Supplier: High Pressure Pipe Materials</th>\n",
       "      <th>Equipment Supplier: Low Pressure Pipe Materials</th>\n",
       "      <th>Equipment Supplier: Membranes ( NF )</th>\n",
       "      <th>Equipment Supplier: Membranes ( UF )</th>\n",
       "      <th>Equipment Supplier: Motors</th>\n",
       "      <th>Equipment Supplier: Pipes (unspecified)</th>\n",
       "      <th>Equipment Supplier: Pressure vessels</th>\n",
       "      <th>Equipment supplier: Pretreatment (DAF)</th>\n",
       "      <th>Equipment Supplier: Pretreatment (Other)</th>\n",
       "      <th>Equipment Supplier: Pumps: Brine circulation (concentrate disposal)</th>\n",
       "      <th>Equipment Supplier: Pumps: Brine circulation (recirculation - MSF only)</th>\n",
       "      <th>Equipment Supplier: Pumps: High pressure</th>\n",
       "      <th>Equipment Supplier: Pumps: Not specified/other</th>\n",
       "      <th>Equipment Supplier: Steel</th>\n",
       "      <th>Equipment Supplier: Valves</th>\n",
       "      <th>Financial advisor</th>\n",
       "      <th>Government agency</th>\n",
       "      <th>Holding Company</th>\n",
       "      <th>Insurance adviser</th>\n",
       "      <th>Legal advisor</th>\n",
       "      <th>Lender</th>\n",
       "      <th>Lender engineer</th>\n",
       "      <th>O&amp;M contractor</th>\n",
       "      <th>Off-taker</th>\n",
       "      <th>Owners engineer</th>\n",
       "      <th>Plant owner</th>\n",
       "      <th>Prime contractor</th>\n",
       "      <th>Project Company</th>\n",
       "      <th>Subcontractor</th>\n",
       "      <th>Technical advisor</th>\n",
       "      <th>Technology provider</th>\n",
       "      <th>Winner</th>\n",
       "      <th>Short listed</th>\n",
       "      <th>Bid submitted</th>\n",
       "      <th>Pre qualified</th>\n",
       "      <th>Statement of qualification</th>\n",
       "      <th>RO System</th>\n",
       "      <th>RO Configuration</th>\n",
       "      <th>RO Feed Pump Drive</th>\n",
       "      <th>RO Control Type</th>\n",
       "      <th>RO Energy Recovery</th>\n",
       "      <th>RO Electrical Power Consumption</th>\n",
       "      <th>RO Membrane Type</th>\n",
       "      <th>RO Pre Treament 1st Stage</th>\n",
       "      <th>RO NPS Or MWCO</th>\n",
       "      <th>RO Pre Treament 2nd Stage</th>\n",
       "      <th>RO Pre Treament 3rd Stage</th>\n",
       "      <th>RO Pre Treament 4th Stage</th>\n",
       "      <th>RO Pre Treament 5th Stage</th>\n",
       "      <th>RO Passivation</th>\n",
       "      <th>RO Disinfection</th>\n",
       "      <th>RO Dosed Chemical 1st Stage</th>\n",
       "      <th>MED Design</th>\n",
       "      <th>MED System</th>\n",
       "      <th>MED Equipment</th>\n",
       "      <th>MED Type</th>\n",
       "      <th>MED Geometry</th>\n",
       "      <th>MED Configuration</th>\n",
       "      <th>MED Power Consumption</th>\n",
       "      <th>MED Gain Output Ratio</th>\n",
       "      <th>MSF Design</th>\n",
       "      <th>MSF System</th>\n",
       "      <th>MSF Equipment</th>\n",
       "      <th>MSF Type</th>\n",
       "      <th>MSF Geometry</th>\n",
       "      <th>MSF Configuration</th>\n",
       "      <th>MSF Heat Recovery Stages</th>\n",
       "      <th>MSF Heat Rejection Stages</th>\n",
       "      <th>MSF Gain Output Ratio</th>\n",
       "    </tr>\n",
       "  </thead>\n",
       "  <tbody>\n",
       "    <tr>\n",
       "      <th>0</th>\n",
       "      <td>Afghanistan</td>\n",
       "      <td>Asia Pacific</td>\n",
       "      <td>Southern Asia</td>\n",
       "      <td>Afghanistan</td>\n",
       "      <td>NaN</td>\n",
       "      <td>Land based</td>\n",
       "      <td>Afghanistan</td>\n",
       "      <td>227.0</td>\n",
       "      <td>S</td>\n",
       "      <td>0.06</td>\n",
       "      <td>0.05</td>\n",
       "      <td>1.0</td>\n",
       "      <td>227.0</td>\n",
       "      <td>0.06</td>\n",
       "      <td>0.05</td>\n",
       "      <td>NaN</td>\n",
       "      <td>RO (Reverse Osmosis)</td>\n",
       "      <td>NaN</td>\n",
       "      <td>NaN</td>\n",
       "      <td>NaN</td>\n",
       "      <td>NaN</td>\n",
       "      <td>Spiral Wound Membrane</td>\n",
       "      <td>NaN</td>\n",
       "      <td>NaN</td>\n",
       "      <td>NaN</td>\n",
       "      <td>NaN</td>\n",
       "      <td>NaN</td>\n",
       "      <td>NaN</td>\n",
       "      <td>NaN</td>\n",
       "      <td>Brackish water or inland water (TDS 3000ppm - ...</td>\n",
       "      <td>2006.0</td>\n",
       "      <td>2007.0</td>\n",
       "      <td>NaN</td>\n",
       "      <td>NaN</td>\n",
       "      <td>NaN</td>\n",
       "      <td>Military purposes (TDS 10ppm- &lt;1000ppm)</td>\n",
       "      <td>NaN</td>\n",
       "      <td>NaN</td>\n",
       "      <td>Online</td>\n",
       "      <td>NaN</td>\n",
       "      <td>Corodex Industries</td>\n",
       "      <td>100.0</td>\n",
       "      <td>NaN</td>\n",
       "      <td>NaN</td>\n",
       "      <td>NaN</td>\n",
       "      <td>NaN</td>\n",
       "      <td>NaN</td>\n",
       "      <td>NaN</td>\n",
       "      <td>NaN</td>\n",
       "      <td>NaN</td>\n",
       "      <td>EPC</td>\n",
       "      <td>NaN</td>\n",
       "      <td>NaN</td>\n",
       "      <td>NaN</td>\n",
       "      <td>NaN</td>\n",
       "      <td>NaN</td>\n",
       "      <td>NaN</td>\n",
       "      <td>NaN</td>\n",
       "      <td>NaN</td>\n",
       "      <td>NaN</td>\n",
       "      <td>NaN</td>\n",
       "      <td>NaN</td>\n",
       "      <td>NaN</td>\n",
       "      <td>NaN</td>\n",
       "      <td>NaN</td>\n",
       "      <td>NaN</td>\n",
       "      <td>NaN</td>\n",
       "      <td>2020-05-11 14:23:54</td>\n",
       "      <td>NaN</td>\n",
       "      <td>NaN</td>\n",
       "      <td>NaN</td>\n",
       "      <td>NaN</td>\n",
       "      <td>NaN</td>\n",
       "      <td>NaN</td>\n",
       "      <td>NaN</td>\n",
       "      <td>NaN</td>\n",
       "      <td>NaN</td>\n",
       "      <td>NaN</td>\n",
       "      <td>NaN</td>\n",
       "      <td>NaN</td>\n",
       "      <td>NaN</td>\n",
       "      <td>NaN</td>\n",
       "      <td>Corodex Industries</td>\n",
       "      <td>NaN</td>\n",
       "      <td>NaN</td>\n",
       "      <td>NaN</td>\n",
       "      <td>NaN</td>\n",
       "      <td>Toray Industries, Inc.</td>\n",
       "      <td>NaN</td>\n",
       "      <td>NaN</td>\n",
       "      <td>NaN</td>\n",
       "      <td>NaN</td>\n",
       "      <td>NaN</td>\n",
       "      <td>NaN</td>\n",
       "      <td>NaN</td>\n",
       "      <td>NaN</td>\n",
       "      <td>NaN</td>\n",
       "      <td>NaN</td>\n",
       "      <td>NaN</td>\n",
       "      <td>NaN</td>\n",
       "      <td>NaN</td>\n",
       "      <td>NaN</td>\n",
       "      <td>NaN</td>\n",
       "      <td>NaN</td>\n",
       "      <td>NaN</td>\n",
       "      <td>NaN</td>\n",
       "      <td>NaN</td>\n",
       "      <td>NaN</td>\n",
       "      <td>Concorde-Corodex Group</td>\n",
       "      <td>NaN</td>\n",
       "      <td>NaN</td>\n",
       "      <td>NaN</td>\n",
       "      <td>NaN</td>\n",
       "      <td>NaN</td>\n",
       "      <td>NaN</td>\n",
       "      <td>NaN</td>\n",
       "      <td>NaN</td>\n",
       "      <td>NaN</td>\n",
       "      <td>NaN</td>\n",
       "      <td>NaN</td>\n",
       "      <td>NaN</td>\n",
       "      <td>NaN</td>\n",
       "      <td>NaN</td>\n",
       "      <td>NaN</td>\n",
       "      <td>NaN</td>\n",
       "      <td>NaN</td>\n",
       "      <td>NaN</td>\n",
       "      <td>NaN</td>\n",
       "      <td>NaN</td>\n",
       "      <td>NaN</td>\n",
       "      <td>NaN</td>\n",
       "      <td>NaN</td>\n",
       "      <td>NaN</td>\n",
       "      <td>Spiral Wound Membrane</td>\n",
       "      <td>NaN</td>\n",
       "      <td>NaN</td>\n",
       "      <td>NaN</td>\n",
       "      <td>NaN</td>\n",
       "      <td>NaN</td>\n",
       "      <td>NaN</td>\n",
       "      <td>NaN</td>\n",
       "      <td>NaN</td>\n",
       "      <td>NaN</td>\n",
       "      <td>NaN</td>\n",
       "      <td>NaN</td>\n",
       "      <td>NaN</td>\n",
       "      <td>NaN</td>\n",
       "      <td>NaN</td>\n",
       "      <td>NaN</td>\n",
       "      <td>NaN</td>\n",
       "      <td>NaN</td>\n",
       "      <td>NaN</td>\n",
       "      <td>NaN</td>\n",
       "      <td>NaN</td>\n",
       "      <td>NaN</td>\n",
       "      <td>NaN</td>\n",
       "      <td>NaN</td>\n",
       "      <td>NaN</td>\n",
       "      <td>NaN</td>\n",
       "      <td>NaN</td>\n",
       "    </tr>\n",
       "    <tr>\n",
       "      <th>1</th>\n",
       "      <td>Afghanistan</td>\n",
       "      <td>Asia Pacific</td>\n",
       "      <td>Southern Asia</td>\n",
       "      <td>Afghanistan</td>\n",
       "      <td>NaN</td>\n",
       "      <td>Land based</td>\n",
       "      <td>Afghanistan</td>\n",
       "      <td>4.0</td>\n",
       "      <td>S</td>\n",
       "      <td>0.00</td>\n",
       "      <td>0.00</td>\n",
       "      <td>1.0</td>\n",
       "      <td>4.0</td>\n",
       "      <td>0.00</td>\n",
       "      <td>0.00</td>\n",
       "      <td>NaN</td>\n",
       "      <td>RO (Reverse Osmosis)</td>\n",
       "      <td>Other/unknown</td>\n",
       "      <td>NaN</td>\n",
       "      <td>NaN</td>\n",
       "      <td>Dow Filmtec (now Dupont Water Solutions)</td>\n",
       "      <td>NaN</td>\n",
       "      <td>NaN</td>\n",
       "      <td>NaN</td>\n",
       "      <td>NaN</td>\n",
       "      <td>NaN</td>\n",
       "      <td>NaN</td>\n",
       "      <td>NaN</td>\n",
       "      <td>NaN</td>\n",
       "      <td>Wastewater</td>\n",
       "      <td>2012.0</td>\n",
       "      <td>2012.0</td>\n",
       "      <td>NaN</td>\n",
       "      <td>NaN</td>\n",
       "      <td>NaN</td>\n",
       "      <td>Military purposes (TDS 10ppm- &lt;1000ppm)</td>\n",
       "      <td>NaN</td>\n",
       "      <td>Grundfos</td>\n",
       "      <td>Online</td>\n",
       "      <td>NaN</td>\n",
       "      <td>Salt Separation Services</td>\n",
       "      <td>100.0</td>\n",
       "      <td>NaN</td>\n",
       "      <td>NaN</td>\n",
       "      <td>NaN</td>\n",
       "      <td>NaN</td>\n",
       "      <td>NaN</td>\n",
       "      <td>NaN</td>\n",
       "      <td>NaN</td>\n",
       "      <td>NaN</td>\n",
       "      <td>EPC</td>\n",
       "      <td>NaN</td>\n",
       "      <td>NaN</td>\n",
       "      <td>NaN</td>\n",
       "      <td>NaN</td>\n",
       "      <td>NaN</td>\n",
       "      <td>NaN</td>\n",
       "      <td>NaN</td>\n",
       "      <td>NaN</td>\n",
       "      <td>NaN</td>\n",
       "      <td>NaN</td>\n",
       "      <td>NaN</td>\n",
       "      <td>NaN</td>\n",
       "      <td>NaN</td>\n",
       "      <td>NaN</td>\n",
       "      <td>NaN</td>\n",
       "      <td>NaN</td>\n",
       "      <td>2020-11-09 12:36:02</td>\n",
       "      <td>NaN</td>\n",
       "      <td>NaN</td>\n",
       "      <td>NaN</td>\n",
       "      <td>NaN</td>\n",
       "      <td>NaN</td>\n",
       "      <td>NaN</td>\n",
       "      <td>NaN</td>\n",
       "      <td>NaN</td>\n",
       "      <td>NaN</td>\n",
       "      <td>NaN</td>\n",
       "      <td>NaN</td>\n",
       "      <td>NaN</td>\n",
       "      <td>NaN</td>\n",
       "      <td>NaN</td>\n",
       "      <td>Salt Separation Services</td>\n",
       "      <td>NaN</td>\n",
       "      <td>NaN</td>\n",
       "      <td>NaN</td>\n",
       "      <td>NaN</td>\n",
       "      <td>NaN</td>\n",
       "      <td>NaN</td>\n",
       "      <td>NaN</td>\n",
       "      <td>NaN</td>\n",
       "      <td>NaN</td>\n",
       "      <td>NaN</td>\n",
       "      <td>NaN</td>\n",
       "      <td>NaN</td>\n",
       "      <td>NaN</td>\n",
       "      <td>NaN</td>\n",
       "      <td>NaN</td>\n",
       "      <td>NaN</td>\n",
       "      <td>NaN</td>\n",
       "      <td>NaN</td>\n",
       "      <td>NaN</td>\n",
       "      <td>NaN</td>\n",
       "      <td>NaN</td>\n",
       "      <td>NaN</td>\n",
       "      <td>NaN</td>\n",
       "      <td>NaN</td>\n",
       "      <td>NaN</td>\n",
       "      <td>Salt Separation Services</td>\n",
       "      <td>NaN</td>\n",
       "      <td>NaN</td>\n",
       "      <td>NaN</td>\n",
       "      <td>NaN</td>\n",
       "      <td>NaN</td>\n",
       "      <td>NaN</td>\n",
       "      <td>NaN</td>\n",
       "      <td>Grundfos</td>\n",
       "      <td>NaN</td>\n",
       "      <td>NaN</td>\n",
       "      <td>NaN</td>\n",
       "      <td>NaN</td>\n",
       "      <td>NaN</td>\n",
       "      <td>NaN</td>\n",
       "      <td>NaN</td>\n",
       "      <td>NaN</td>\n",
       "      <td>NaN</td>\n",
       "      <td>NaN</td>\n",
       "      <td>NaN</td>\n",
       "      <td>NaN</td>\n",
       "      <td>NaN</td>\n",
       "      <td>NaN</td>\n",
       "      <td>NaN</td>\n",
       "      <td>NaN</td>\n",
       "      <td>NaN</td>\n",
       "      <td>NaN</td>\n",
       "      <td>NaN</td>\n",
       "      <td>NaN</td>\n",
       "      <td>NaN</td>\n",
       "      <td>NaN</td>\n",
       "      <td>NaN</td>\n",
       "      <td>NaN</td>\n",
       "      <td>NaN</td>\n",
       "      <td>NaN</td>\n",
       "      <td>NaN</td>\n",
       "      <td>NaN</td>\n",
       "      <td>NaN</td>\n",
       "      <td>NaN</td>\n",
       "      <td>NaN</td>\n",
       "      <td>NaN</td>\n",
       "      <td>NaN</td>\n",
       "      <td>NaN</td>\n",
       "      <td>NaN</td>\n",
       "      <td>NaN</td>\n",
       "      <td>NaN</td>\n",
       "      <td>NaN</td>\n",
       "      <td>NaN</td>\n",
       "      <td>NaN</td>\n",
       "      <td>NaN</td>\n",
       "      <td>NaN</td>\n",
       "      <td>NaN</td>\n",
       "    </tr>\n",
       "    <tr>\n",
       "      <th>2</th>\n",
       "      <td>Algeria</td>\n",
       "      <td>EMEA</td>\n",
       "      <td>Middle East / North Africa</td>\n",
       "      <td>NaN</td>\n",
       "      <td>NaN</td>\n",
       "      <td>NaN</td>\n",
       "      <td>Ain Benian</td>\n",
       "      <td>10000.0</td>\n",
       "      <td>L</td>\n",
       "      <td>2.64</td>\n",
       "      <td>2.20</td>\n",
       "      <td>NaN</td>\n",
       "      <td>NaN</td>\n",
       "      <td>NaN</td>\n",
       "      <td>NaN</td>\n",
       "      <td>NaN</td>\n",
       "      <td>RO (Reverse Osmosis)</td>\n",
       "      <td>NaN</td>\n",
       "      <td>NaN</td>\n",
       "      <td>NaN</td>\n",
       "      <td>NaN</td>\n",
       "      <td>NaN</td>\n",
       "      <td>NaN</td>\n",
       "      <td>NaN</td>\n",
       "      <td>NaN</td>\n",
       "      <td>NaN</td>\n",
       "      <td>NaN</td>\n",
       "      <td>NaN</td>\n",
       "      <td>NaN</td>\n",
       "      <td>Seawater (TDS 20000ppm - 50000ppm)</td>\n",
       "      <td>2021.0</td>\n",
       "      <td>2021.0</td>\n",
       "      <td>NaN</td>\n",
       "      <td>NaN</td>\n",
       "      <td>NaN</td>\n",
       "      <td>Municipalities as drinking water (TDS 10ppm - ...</td>\n",
       "      <td>NaN</td>\n",
       "      <td>NaN</td>\n",
       "      <td>Online</td>\n",
       "      <td>Stand-alone</td>\n",
       "      <td>NaN</td>\n",
       "      <td>NaN</td>\n",
       "      <td>NaN</td>\n",
       "      <td>NaN</td>\n",
       "      <td>NaN</td>\n",
       "      <td>NaN</td>\n",
       "      <td>NaN</td>\n",
       "      <td>NaN</td>\n",
       "      <td>NaN</td>\n",
       "      <td>NaN</td>\n",
       "      <td>NaN</td>\n",
       "      <td>NaN</td>\n",
       "      <td>NaN</td>\n",
       "      <td>NaN</td>\n",
       "      <td>NaN</td>\n",
       "      <td>NaN</td>\n",
       "      <td>NaN</td>\n",
       "      <td>NaN</td>\n",
       "      <td>NaN</td>\n",
       "      <td>NaN</td>\n",
       "      <td>NaN</td>\n",
       "      <td>NaN</td>\n",
       "      <td>NaN</td>\n",
       "      <td>NaN</td>\n",
       "      <td>NaN</td>\n",
       "      <td>NaN</td>\n",
       "      <td>NaN</td>\n",
       "      <td>2021-09-30 20:39:28</td>\n",
       "      <td>NaN</td>\n",
       "      <td>NaN</td>\n",
       "      <td>NaN</td>\n",
       "      <td>NaN</td>\n",
       "      <td>NaN</td>\n",
       "      <td>NaN</td>\n",
       "      <td>NaN</td>\n",
       "      <td>NaN</td>\n",
       "      <td>NaN</td>\n",
       "      <td>NaN</td>\n",
       "      <td>NaN</td>\n",
       "      <td>NaN</td>\n",
       "      <td>NaN</td>\n",
       "      <td>NaN</td>\n",
       "      <td>NaN</td>\n",
       "      <td>NaN</td>\n",
       "      <td>NaN</td>\n",
       "      <td>NaN</td>\n",
       "      <td>NaN</td>\n",
       "      <td>NaN</td>\n",
       "      <td>NaN</td>\n",
       "      <td>NaN</td>\n",
       "      <td>NaN</td>\n",
       "      <td>NaN</td>\n",
       "      <td>NaN</td>\n",
       "      <td>NaN</td>\n",
       "      <td>NaN</td>\n",
       "      <td>NaN</td>\n",
       "      <td>NaN</td>\n",
       "      <td>NaN</td>\n",
       "      <td>NaN</td>\n",
       "      <td>NaN</td>\n",
       "      <td>NaN</td>\n",
       "      <td>NaN</td>\n",
       "      <td>NaN</td>\n",
       "      <td>NaN</td>\n",
       "      <td>NaN</td>\n",
       "      <td>NaN</td>\n",
       "      <td>NaN</td>\n",
       "      <td>NaN</td>\n",
       "      <td>NaN</td>\n",
       "      <td>NaN</td>\n",
       "      <td>NaN</td>\n",
       "      <td>NaN</td>\n",
       "      <td>NaN</td>\n",
       "      <td>NaN</td>\n",
       "      <td>NaN</td>\n",
       "      <td>NaN</td>\n",
       "      <td>NaN</td>\n",
       "      <td>NaN</td>\n",
       "      <td>NaN</td>\n",
       "      <td>NaN</td>\n",
       "      <td>NaN</td>\n",
       "      <td>NaN</td>\n",
       "      <td>NaN</td>\n",
       "      <td>NaN</td>\n",
       "      <td>NaN</td>\n",
       "      <td>NaN</td>\n",
       "      <td>NaN</td>\n",
       "      <td>NaN</td>\n",
       "      <td>NaN</td>\n",
       "      <td>NaN</td>\n",
       "      <td>NaN</td>\n",
       "      <td>NaN</td>\n",
       "      <td>NaN</td>\n",
       "      <td>NaN</td>\n",
       "      <td>NaN</td>\n",
       "      <td>NaN</td>\n",
       "      <td>NaN</td>\n",
       "      <td>NaN</td>\n",
       "      <td>NaN</td>\n",
       "      <td>NaN</td>\n",
       "      <td>NaN</td>\n",
       "      <td>NaN</td>\n",
       "      <td>NaN</td>\n",
       "      <td>NaN</td>\n",
       "      <td>NaN</td>\n",
       "      <td>NaN</td>\n",
       "      <td>NaN</td>\n",
       "      <td>NaN</td>\n",
       "      <td>NaN</td>\n",
       "      <td>NaN</td>\n",
       "      <td>NaN</td>\n",
       "      <td>NaN</td>\n",
       "      <td>NaN</td>\n",
       "      <td>NaN</td>\n",
       "      <td>NaN</td>\n",
       "      <td>NaN</td>\n",
       "      <td>NaN</td>\n",
       "      <td>NaN</td>\n",
       "      <td>NaN</td>\n",
       "      <td>NaN</td>\n",
       "    </tr>\n",
       "    <tr>\n",
       "      <th>3</th>\n",
       "      <td>Algeria</td>\n",
       "      <td>EMEA</td>\n",
       "      <td>Middle East / North Africa</td>\n",
       "      <td>Ouargla</td>\n",
       "      <td>NaN</td>\n",
       "      <td>Land based</td>\n",
       "      <td>Ain Kheir</td>\n",
       "      <td>6750.0</td>\n",
       "      <td>M</td>\n",
       "      <td>1.78</td>\n",
       "      <td>1.48</td>\n",
       "      <td>3.0</td>\n",
       "      <td>2250.0</td>\n",
       "      <td>0.59</td>\n",
       "      <td>0.49</td>\n",
       "      <td>NaN</td>\n",
       "      <td>RO (Reverse Osmosis)</td>\n",
       "      <td>NaN</td>\n",
       "      <td>NaN</td>\n",
       "      <td>NaN</td>\n",
       "      <td>NaN</td>\n",
       "      <td>Spiral Wound Membrane</td>\n",
       "      <td>NaN</td>\n",
       "      <td>NaN</td>\n",
       "      <td>NaN</td>\n",
       "      <td>NaN</td>\n",
       "      <td>NaN</td>\n",
       "      <td>NaN</td>\n",
       "      <td>NaN</td>\n",
       "      <td>River water or low concentrated saline water (...</td>\n",
       "      <td>2010.0</td>\n",
       "      <td>2012.0</td>\n",
       "      <td>NaN</td>\n",
       "      <td>NaN</td>\n",
       "      <td>NaN</td>\n",
       "      <td>Municipalities as drinking water (TDS 10ppm - ...</td>\n",
       "      <td>NaN</td>\n",
       "      <td>Algerienne Des Eaux</td>\n",
       "      <td>Online</td>\n",
       "      <td>NaN</td>\n",
       "      <td>Aqua Engineering GmbH</td>\n",
       "      <td>100.0</td>\n",
       "      <td>NaN</td>\n",
       "      <td>NaN</td>\n",
       "      <td>NaN</td>\n",
       "      <td>NaN</td>\n",
       "      <td>NaN</td>\n",
       "      <td>NaN</td>\n",
       "      <td>NaN</td>\n",
       "      <td>NaN</td>\n",
       "      <td>EPC</td>\n",
       "      <td>NaN</td>\n",
       "      <td>NaN</td>\n",
       "      <td>NaN</td>\n",
       "      <td>NaN</td>\n",
       "      <td>NaN</td>\n",
       "      <td>NaN</td>\n",
       "      <td>NaN</td>\n",
       "      <td>NaN</td>\n",
       "      <td>NaN</td>\n",
       "      <td>NaN</td>\n",
       "      <td>NaN</td>\n",
       "      <td>NaN</td>\n",
       "      <td>NaN</td>\n",
       "      <td>NaN</td>\n",
       "      <td>NaN</td>\n",
       "      <td>NaN</td>\n",
       "      <td>2020-05-11 14:36:07</td>\n",
       "      <td>NaN</td>\n",
       "      <td>NaN</td>\n",
       "      <td>NaN</td>\n",
       "      <td>NaN</td>\n",
       "      <td>NaN</td>\n",
       "      <td>NaN</td>\n",
       "      <td>NaN</td>\n",
       "      <td>NaN</td>\n",
       "      <td>NaN</td>\n",
       "      <td>NaN</td>\n",
       "      <td>NaN</td>\n",
       "      <td>NaN</td>\n",
       "      <td>NaN</td>\n",
       "      <td>NaN</td>\n",
       "      <td>Aqua Engineering GmbH</td>\n",
       "      <td>NaN</td>\n",
       "      <td>NaN</td>\n",
       "      <td>NaN</td>\n",
       "      <td>NaN</td>\n",
       "      <td>NaN</td>\n",
       "      <td>NaN</td>\n",
       "      <td>NaN</td>\n",
       "      <td>NaN</td>\n",
       "      <td>NaN</td>\n",
       "      <td>NaN</td>\n",
       "      <td>NaN</td>\n",
       "      <td>NaN</td>\n",
       "      <td>NaN</td>\n",
       "      <td>NaN</td>\n",
       "      <td>NaN</td>\n",
       "      <td>NaN</td>\n",
       "      <td>NaN</td>\n",
       "      <td>NaN</td>\n",
       "      <td>NaN</td>\n",
       "      <td>NaN</td>\n",
       "      <td>NaN</td>\n",
       "      <td>NaN</td>\n",
       "      <td>NaN</td>\n",
       "      <td>NaN</td>\n",
       "      <td>NaN</td>\n",
       "      <td>Ovivo</td>\n",
       "      <td>NaN</td>\n",
       "      <td>NaN</td>\n",
       "      <td>NaN</td>\n",
       "      <td>NaN</td>\n",
       "      <td>NaN</td>\n",
       "      <td>NaN</td>\n",
       "      <td>NaN</td>\n",
       "      <td>Algerienne Des Eaux</td>\n",
       "      <td>NaN</td>\n",
       "      <td>NaN</td>\n",
       "      <td>NaN</td>\n",
       "      <td>NaN</td>\n",
       "      <td>NaN</td>\n",
       "      <td>NaN</td>\n",
       "      <td>NaN</td>\n",
       "      <td>Christ Water Technology Group</td>\n",
       "      <td>NaN</td>\n",
       "      <td>NaN</td>\n",
       "      <td>NaN</td>\n",
       "      <td>NaN</td>\n",
       "      <td>NaN</td>\n",
       "      <td>NaN</td>\n",
       "      <td>NaN</td>\n",
       "      <td>NaN</td>\n",
       "      <td>Spiral Wound Membrane</td>\n",
       "      <td>NaN</td>\n",
       "      <td>NaN</td>\n",
       "      <td>NaN</td>\n",
       "      <td>NaN</td>\n",
       "      <td>NaN</td>\n",
       "      <td>NaN</td>\n",
       "      <td>NaN</td>\n",
       "      <td>NaN</td>\n",
       "      <td>NaN</td>\n",
       "      <td>NaN</td>\n",
       "      <td>NaN</td>\n",
       "      <td>NaN</td>\n",
       "      <td>NaN</td>\n",
       "      <td>NaN</td>\n",
       "      <td>NaN</td>\n",
       "      <td>NaN</td>\n",
       "      <td>NaN</td>\n",
       "      <td>NaN</td>\n",
       "      <td>NaN</td>\n",
       "      <td>NaN</td>\n",
       "      <td>NaN</td>\n",
       "      <td>NaN</td>\n",
       "      <td>NaN</td>\n",
       "      <td>NaN</td>\n",
       "      <td>NaN</td>\n",
       "      <td>NaN</td>\n",
       "    </tr>\n",
       "  </tbody>\n",
       "</table>\n",
       "</div>"
      ],
      "text/plain": [
       "       Country        Region                   Subregion     Location  \\\n",
       "0  Afghanistan  Asia Pacific               Southern Asia  Afghanistan   \n",
       "1  Afghanistan  Asia Pacific               Southern Asia  Afghanistan   \n",
       "2      Algeria          EMEA  Middle East / North Africa          NaN   \n",
       "3      Algeria          EMEA  Middle East / North Africa      Ouargla   \n",
       "\n",
       "  State/Region Location type  Project name  Capacity (m3/d) Size  \\\n",
       "0          NaN    Land based   Afghanistan            227.0    S   \n",
       "1          NaN    Land based  Afghanistan               4.0    S   \n",
       "2          NaN           NaN    Ain Benian          10000.0    L   \n",
       "3          NaN    Land based     Ain Kheir           6750.0    M   \n",
       "\n",
       "   Capacity (MGD)  Capacity (MIGD)  Units  Unit size (m3/d)  Unit size (MGD)  \\\n",
       "0            0.06             0.05    1.0             227.0             0.06   \n",
       "1            0.00             0.00    1.0               4.0             0.00   \n",
       "2            2.64             2.20    NaN               NaN              NaN   \n",
       "3            1.78             1.48    3.0            2250.0             0.59   \n",
       "\n",
       "   Unit size (MIGD) Technical notes            Technology  \\\n",
       "0              0.05             NaN  RO (Reverse Osmosis)   \n",
       "1              0.00             NaN  RO (Reverse Osmosis)   \n",
       "2               NaN             NaN  RO (Reverse Osmosis)   \n",
       "3              0.49             NaN  RO (Reverse Osmosis)   \n",
       "\n",
       "  Primary Reuse Sector Thermal design Thermal equipment  \\\n",
       "0                  NaN            NaN               NaN   \n",
       "1        Other/unknown            NaN               NaN   \n",
       "2                  NaN            NaN               NaN   \n",
       "3                  NaN            NaN               NaN   \n",
       "\n",
       "                     Membrane supplier (RO)     Membrane type (RO)  \\\n",
       "0                                       NaN  Spiral Wound Membrane   \n",
       "1  Dow Filmtec (now Dupont Water Solutions)                    NaN   \n",
       "2                                       NaN                    NaN   \n",
       "3                                       NaN  Spiral Wound Membrane   \n",
       "\n",
       "  ERD supplier ERD type DAF pretreatment supplier DAF brand  \\\n",
       "0          NaN      NaN                       NaN       NaN   \n",
       "1          NaN      NaN                       NaN       NaN   \n",
       "2          NaN      NaN                       NaN       NaN   \n",
       "3          NaN      NaN                       NaN       NaN   \n",
       "\n",
       "  MF/UF Pretreatment Supplier MF/UF brand Other pretreatment  \\\n",
       "0                         NaN         NaN                NaN   \n",
       "1                         NaN         NaN                NaN   \n",
       "2                         NaN         NaN                NaN   \n",
       "3                         NaN         NaN                NaN   \n",
       "\n",
       "                                           Feedwater  Award date  Online date  \\\n",
       "0  Brackish water or inland water (TDS 3000ppm - ...      2006.0       2007.0   \n",
       "1                                         Wastewater      2012.0       2012.0   \n",
       "2                 Seawater (TDS 20000ppm - 50000ppm)      2021.0       2021.0   \n",
       "3  River water or low concentrated saline water (...      2010.0       2012.0   \n",
       "\n",
       "  Consultant Consultant 2 Consultant 3  \\\n",
       "0        NaN          NaN          NaN   \n",
       "1        NaN          NaN          NaN   \n",
       "2        NaN          NaN          NaN   \n",
       "3        NaN          NaN          NaN   \n",
       "\n",
       "                                       Customer type Industry  \\\n",
       "0            Military purposes (TDS 10ppm- <1000ppm)      NaN   \n",
       "1            Military purposes (TDS 10ppm- <1000ppm)      NaN   \n",
       "2  Municipalities as drinking water (TDS 10ppm - ...      NaN   \n",
       "3  Municipalities as drinking water (TDS 10ppm - ...      NaN   \n",
       "\n",
       "              Customer Plant status   Plant type            Plant supplier  \\\n",
       "0                  NaN       Online          NaN        Corodex Industries   \n",
       "1             Grundfos       Online          NaN  Salt Separation Services   \n",
       "2                  NaN       Online  Stand-alone                       NaN   \n",
       "3  Algerienne Des Eaux       Online          NaN   Aqua Engineering GmbH     \n",
       "\n",
       "   Plant supplier share Plant supplier 2  Plant supplier 2 share  \\\n",
       "0                 100.0              NaN                     NaN   \n",
       "1                 100.0              NaN                     NaN   \n",
       "2                   NaN              NaN                     NaN   \n",
       "3                 100.0              NaN                     NaN   \n",
       "\n",
       "  Plant supplier 3  Plant supplier 3 share Plant supplier 4  \\\n",
       "0              NaN                     NaN              NaN   \n",
       "1              NaN                     NaN              NaN   \n",
       "2              NaN                     NaN              NaN   \n",
       "3              NaN                     NaN              NaN   \n",
       "\n",
       "   Plant supplier 4 share Plant supplier 5  Plant supplier 5 share  \\\n",
       "0                     NaN              NaN                     NaN   \n",
       "1                     NaN              NaN                     NaN   \n",
       "2                     NaN              NaN                     NaN   \n",
       "3                     NaN              NaN                     NaN   \n",
       "\n",
       "  Procurement model  Concession period Dev consortium Developer  Dev share  \\\n",
       "0               EPC                NaN            NaN       NaN        NaN   \n",
       "1               EPC                NaN            NaN       NaN        NaN   \n",
       "2               NaN                NaN            NaN       NaN        NaN   \n",
       "3               EPC                NaN            NaN       NaN        NaN   \n",
       "\n",
       "  Developer 2  Dev2 share Developer 3  Dev3 share Developer 4  Dev4 share  \\\n",
       "0         NaN         NaN         NaN         NaN         NaN         NaN   \n",
       "1         NaN         NaN         NaN         NaN         NaN         NaN   \n",
       "2         NaN         NaN         NaN         NaN         NaN         NaN   \n",
       "3         NaN         NaN         NaN         NaN         NaN         NaN   \n",
       "\n",
       "  Developer 5  Dev5 share Developer 6  Dev6 share EPC price  \\\n",
       "0         NaN         NaN         NaN         NaN       NaN   \n",
       "1         NaN         NaN         NaN         NaN       NaN   \n",
       "2         NaN         NaN         NaN         NaN       NaN   \n",
       "3         NaN         NaN         NaN         NaN       NaN   \n",
       "\n",
       "   Water price (USD/m3)         Last update Contact  Feedwater Ph  \\\n",
       "0                   NaN 2020-05-11 14:23:54     NaN           NaN   \n",
       "1                   NaN 2020-11-09 12:36:02     NaN           NaN   \n",
       "2                   NaN 2021-09-30 20:39:28     NaN           NaN   \n",
       "3                   NaN 2020-05-11 14:36:07     NaN           NaN   \n",
       "\n",
       "   Feedwater salinity  Feedwater temp minimum  Feedwater temp maximum  \\\n",
       "0                 NaN                     NaN                     NaN   \n",
       "1                 NaN                     NaN                     NaN   \n",
       "2                 NaN                     NaN                     NaN   \n",
       "3                 NaN                     NaN                     NaN   \n",
       "\n",
       "   Product water salinity  Product water temp Civil contractor (off-shore)  \\\n",
       "0                     NaN                 NaN                          NaN   \n",
       "1                     NaN                 NaN                          NaN   \n",
       "2                     NaN                 NaN                          NaN   \n",
       "3                     NaN                 NaN                          NaN   \n",
       "\n",
       "  Civil contractor (on-shore) Consultant.1 Developer/co-developer  \\\n",
       "0                         NaN          NaN                    NaN   \n",
       "1                         NaN          NaN                    NaN   \n",
       "2                         NaN          NaN                    NaN   \n",
       "3                         NaN          NaN                    NaN   \n",
       "\n",
       "   ED/EDR system supplier Engineering Consultancy Environmental advisor  \\\n",
       "0                     NaN                     NaN                   NaN   \n",
       "1                     NaN                     NaN                   NaN   \n",
       "2                     NaN                     NaN                   NaN   \n",
       "3                     NaN                     NaN                   NaN   \n",
       "\n",
       "     EPC contractor (desal) EPC contractor (pipeline) EPC contractor (power)  \\\n",
       "0        Corodex Industries                       NaN                    NaN   \n",
       "1  Salt Separation Services                       NaN                    NaN   \n",
       "2                       NaN                       NaN                    NaN   \n",
       "3   Aqua Engineering GmbH                         NaN                    NaN   \n",
       "\n",
       "  EPCM contractor Equipment Supplier : Desal (unspecified)  \\\n",
       "0             NaN                                      NaN   \n",
       "1             NaN                                      NaN   \n",
       "2             NaN                                      NaN   \n",
       "3             NaN                                      NaN   \n",
       "\n",
       "  Equipment supplier : Membranes (Not specified / Other)  \\\n",
       "0                             Toray Industries, Inc.       \n",
       "1                                                NaN       \n",
       "2                                                NaN       \n",
       "3                                                NaN       \n",
       "\n",
       "  Equipment Supplier: Chemical Feed System  \\\n",
       "0                                      NaN   \n",
       "1                                      NaN   \n",
       "2                                      NaN   \n",
       "3                                      NaN   \n",
       "\n",
       "  Equipment Supplier: Energy Recovery Device  \\\n",
       "0                                        NaN   \n",
       "1                                        NaN   \n",
       "2                                        NaN   \n",
       "3                                        NaN   \n",
       "\n",
       "  Equipment Supplier: Glass Reinforced Polyester Pipes and Fittings  \\\n",
       "0                                                NaN                  \n",
       "1                                                NaN                  \n",
       "2                                                NaN                  \n",
       "3                                                NaN                  \n",
       "\n",
       "  Equipment Supplier: High Pressure Pipe Materials  \\\n",
       "0                                              NaN   \n",
       "1                                              NaN   \n",
       "2                                              NaN   \n",
       "3                                              NaN   \n",
       "\n",
       "   Equipment Supplier: Low Pressure Pipe Materials  \\\n",
       "0                                              NaN   \n",
       "1                                              NaN   \n",
       "2                                              NaN   \n",
       "3                                              NaN   \n",
       "\n",
       "  Equipment Supplier: Membranes ( NF ) Equipment Supplier: Membranes ( UF )  \\\n",
       "0                                  NaN                                  NaN   \n",
       "1                                  NaN                                  NaN   \n",
       "2                                  NaN                                  NaN   \n",
       "3                                  NaN                                  NaN   \n",
       "\n",
       "  Equipment Supplier: Motors Equipment Supplier: Pipes (unspecified)  \\\n",
       "0                        NaN                                     NaN   \n",
       "1                        NaN                                     NaN   \n",
       "2                        NaN                                     NaN   \n",
       "3                        NaN                                     NaN   \n",
       "\n",
       "  Equipment Supplier: Pressure vessels Equipment supplier: Pretreatment (DAF)  \\\n",
       "0                                  NaN                                    NaN   \n",
       "1                                  NaN                                    NaN   \n",
       "2                                  NaN                                    NaN   \n",
       "3                                  NaN                                    NaN   \n",
       "\n",
       "  Equipment Supplier: Pretreatment (Other)  \\\n",
       "0                                      NaN   \n",
       "1                                      NaN   \n",
       "2                                      NaN   \n",
       "3                                      NaN   \n",
       "\n",
       "   Equipment Supplier: Pumps: Brine circulation (concentrate disposal)  \\\n",
       "0                                                NaN                     \n",
       "1                                                NaN                     \n",
       "2                                                NaN                     \n",
       "3                                                NaN                     \n",
       "\n",
       "   Equipment Supplier: Pumps: Brine circulation (recirculation - MSF only)  \\\n",
       "0                                                NaN                         \n",
       "1                                                NaN                         \n",
       "2                                                NaN                         \n",
       "3                                                NaN                         \n",
       "\n",
       "  Equipment Supplier: Pumps: High pressure  \\\n",
       "0                                      NaN   \n",
       "1                                      NaN   \n",
       "2                                      NaN   \n",
       "3                                      NaN   \n",
       "\n",
       "  Equipment Supplier: Pumps: Not specified/other Equipment Supplier: Steel  \\\n",
       "0                                            NaN                       NaN   \n",
       "1                                            NaN                       NaN   \n",
       "2                                            NaN                       NaN   \n",
       "3                                            NaN                       NaN   \n",
       "\n",
       "  Equipment Supplier: Valves Financial advisor Government agency  \\\n",
       "0                        NaN               NaN               NaN   \n",
       "1                        NaN               NaN               NaN   \n",
       "2                        NaN               NaN               NaN   \n",
       "3                        NaN               NaN               NaN   \n",
       "\n",
       "            Holding Company  Insurance adviser Legal advisor Lender  \\\n",
       "0    Concorde-Corodex Group                NaN           NaN    NaN   \n",
       "1  Salt Separation Services                NaN           NaN    NaN   \n",
       "2                       NaN                NaN           NaN    NaN   \n",
       "3                     Ovivo                NaN           NaN    NaN   \n",
       "\n",
       "  Lender engineer O&M contractor Off-taker Owners engineer  \\\n",
       "0             NaN            NaN       NaN             NaN   \n",
       "1             NaN            NaN       NaN             NaN   \n",
       "2             NaN            NaN       NaN             NaN   \n",
       "3             NaN            NaN       NaN             NaN   \n",
       "\n",
       "           Plant owner Prime contractor Project Company Subcontractor  \\\n",
       "0                  NaN              NaN             NaN           NaN   \n",
       "1             Grundfos              NaN             NaN           NaN   \n",
       "2                  NaN              NaN             NaN           NaN   \n",
       "3  Algerienne Des Eaux              NaN             NaN           NaN   \n",
       "\n",
       "  Technical advisor Technology provider Winner Short listed  \\\n",
       "0               NaN                 NaN    NaN          NaN   \n",
       "1               NaN                 NaN    NaN          NaN   \n",
       "2               NaN                 NaN    NaN          NaN   \n",
       "3               NaN                 NaN    NaN          NaN   \n",
       "\n",
       "                    Bid submitted Pre qualified Statement of qualification  \\\n",
       "0                             NaN           NaN                        NaN   \n",
       "1                             NaN           NaN                        NaN   \n",
       "2                             NaN           NaN                        NaN   \n",
       "3  Christ Water Technology Group            NaN                        NaN   \n",
       "\n",
       "  RO System RO Configuration RO Feed Pump Drive RO Control Type  \\\n",
       "0       NaN              NaN                NaN             NaN   \n",
       "1       NaN              NaN                NaN             NaN   \n",
       "2       NaN              NaN                NaN             NaN   \n",
       "3       NaN              NaN                NaN             NaN   \n",
       "\n",
       "  RO Energy Recovery RO Electrical Power Consumption       RO Membrane Type  \\\n",
       "0                NaN                             NaN  Spiral Wound Membrane   \n",
       "1                NaN                             NaN                    NaN   \n",
       "2                NaN                             NaN                    NaN   \n",
       "3                NaN                             NaN  Spiral Wound Membrane   \n",
       "\n",
       "  RO Pre Treament 1st Stage RO NPS Or MWCO RO Pre Treament 2nd Stage  \\\n",
       "0                       NaN            NaN                       NaN   \n",
       "1                       NaN            NaN                       NaN   \n",
       "2                       NaN            NaN                       NaN   \n",
       "3                       NaN            NaN                       NaN   \n",
       "\n",
       "  RO Pre Treament 3rd Stage RO Pre Treament 4th Stage  \\\n",
       "0                       NaN                       NaN   \n",
       "1                       NaN                       NaN   \n",
       "2                       NaN                       NaN   \n",
       "3                       NaN                       NaN   \n",
       "\n",
       "  RO Pre Treament 5th Stage RO Passivation RO Disinfection  \\\n",
       "0                       NaN            NaN             NaN   \n",
       "1                       NaN            NaN             NaN   \n",
       "2                       NaN            NaN             NaN   \n",
       "3                       NaN            NaN             NaN   \n",
       "\n",
       "  RO Dosed Chemical 1st Stage MED Design MED System MED Equipment MED Type  \\\n",
       "0                         NaN        NaN        NaN           NaN      NaN   \n",
       "1                         NaN        NaN        NaN           NaN      NaN   \n",
       "2                         NaN        NaN        NaN           NaN      NaN   \n",
       "3                         NaN        NaN        NaN           NaN      NaN   \n",
       "\n",
       "  MED Geometry MED Configuration  MED Power Consumption  \\\n",
       "0          NaN               NaN                    NaN   \n",
       "1          NaN               NaN                    NaN   \n",
       "2          NaN               NaN                    NaN   \n",
       "3          NaN               NaN                    NaN   \n",
       "\n",
       "   MED Gain Output Ratio MSF Design MSF System MSF Equipment MSF Type  \\\n",
       "0                    NaN        NaN        NaN           NaN      NaN   \n",
       "1                    NaN        NaN        NaN           NaN      NaN   \n",
       "2                    NaN        NaN        NaN           NaN      NaN   \n",
       "3                    NaN        NaN        NaN           NaN      NaN   \n",
       "\n",
       "  MSF Geometry MSF Configuration  MSF Heat Recovery Stages  \\\n",
       "0          NaN               NaN                       NaN   \n",
       "1          NaN               NaN                       NaN   \n",
       "2          NaN               NaN                       NaN   \n",
       "3          NaN               NaN                       NaN   \n",
       "\n",
       "   MSF Heat Rejection Stages  MSF Gain Output Ratio  \n",
       "0                        NaN                    NaN  \n",
       "1                        NaN                    NaN  \n",
       "2                        NaN                    NaN  \n",
       "3                        NaN                    NaN  "
      ]
     },
     "execution_count": 2,
     "metadata": {},
     "output_type": "execute_result"
    }
   ],
   "source": [
    "#load and inspect top few rows\n",
    "raw_df = pd.read_excel('raw.xlsx')\n",
    "raw_df.head(4)"
   ]
  },
  {
   "cell_type": "markdown",
   "id": "d9d857df",
   "metadata": {},
   "source": [
    "The target variable, EPC Price is our most important variable. Only records with non-missing price entries will be considered."
   ]
  },
  {
   "cell_type": "code",
   "execution_count": 3,
   "id": "5fbdf120",
   "metadata": {},
   "outputs": [
    {
     "data": {
      "text/plain": [
       "(10314, 160)"
      ]
     },
     "execution_count": 3,
     "metadata": {},
     "output_type": "execute_result"
    }
   ],
   "source": [
    "#get number of entries and columns\n",
    "df = raw_df[raw_df['EPC price'].notna()]\n",
    "df.shape"
   ]
  },
  {
   "cell_type": "markdown",
   "id": "6cef584f",
   "metadata": {},
   "source": [
    "Let's see the percentage of missing values for each column in the dataframe."
   ]
  },
  {
   "cell_type": "code",
   "execution_count": 4,
   "id": "2c2a4472",
   "metadata": {
    "scrolled": true
   },
   "outputs": [
    {
     "data": {
      "text/plain": [
       "ED/EDR system supplier                                                     100.0\n",
       "Equipment Supplier: Pumps: Brine circulation (recirculation - MSF only)    100.0\n",
       "Equipment Supplier: Pumps: Brine circulation (concentrate disposal)        100.0\n",
       "Equipment Supplier: Low Pressure Pipe Materials                            100.0\n",
       "Insurance adviser                                                          100.0\n",
       "                                                                           ...  \n",
       "Region                                                                       0.0\n",
       "EPC price                                                                    0.0\n",
       "Plant status                                                                 0.0\n",
       "Technology                                                                   0.0\n",
       "Country                                                                      0.0\n",
       "Length: 160, dtype: float64"
      ]
     },
     "execution_count": 4,
     "metadata": {},
     "output_type": "execute_result"
    }
   ],
   "source": [
    "missing = df.isna().sum()*100/df.shape[0]\n",
    "missing.sort_values(ascending=False)"
   ]
  },
  {
   "cell_type": "markdown",
   "id": "d447dcc1",
   "metadata": {},
   "source": [
    "Let's drop columns with over 90 percent missing values"
   ]
  },
  {
   "cell_type": "code",
   "execution_count": 5,
   "id": "d0ea3fe1",
   "metadata": {},
   "outputs": [
    {
     "data": {
      "text/plain": [
       "(10314, 40)"
      ]
     },
     "execution_count": 5,
     "metadata": {},
     "output_type": "execute_result"
    }
   ],
   "source": [
    "to_drop = missing[missing>90].index\n",
    "df = df.drop(to_drop,axis=1)\n",
    "df.shape"
   ]
  },
  {
   "cell_type": "markdown",
   "id": "2f9c0222",
   "metadata": {},
   "source": [
    "This leaves us with about 25 percent of the initial columns"
   ]
  },
  {
   "cell_type": "code",
   "execution_count": 6,
   "id": "c3a02995",
   "metadata": {
    "scrolled": false
   },
   "outputs": [
    {
     "name": "stdout",
     "output_type": "stream",
     "text": [
      "<class 'pandas.core.frame.DataFrame'>\n",
      "Int64Index: 10314 entries, 4 to 21928\n",
      "Data columns (total 40 columns):\n",
      " #   Column                                                  Non-Null Count  Dtype         \n",
      "---  ------                                                  --------------  -----         \n",
      " 0   Country                                                 10314 non-null  object        \n",
      " 1   Region                                                  10314 non-null  object        \n",
      " 2   Subregion                                               10314 non-null  object        \n",
      " 3   Location                                                9502 non-null   object        \n",
      " 4   State/Region                                            3077 non-null   object        \n",
      " 5   Location type                                           10305 non-null  object        \n",
      " 6   Project name                                            10313 non-null  object        \n",
      " 7   Capacity (m3/d)                                         10311 non-null  float64       \n",
      " 8   Size                                                    10310 non-null  object        \n",
      " 9   Capacity (MGD)                                          10311 non-null  float64       \n",
      " 10  Capacity (MIGD)                                         10311 non-null  float64       \n",
      " 11  Units                                                   10102 non-null  float64       \n",
      " 12  Unit size (m3/d)                                        10099 non-null  float64       \n",
      " 13  Unit size (MGD)                                         10099 non-null  float64       \n",
      " 14  Unit size (MIGD)                                        10099 non-null  float64       \n",
      " 15  Technology                                              10314 non-null  object        \n",
      " 16  Thermal design                                          1209 non-null   object        \n",
      " 17  Membrane type (RO)                                      5526 non-null   object        \n",
      " 18  Feedwater                                               10313 non-null  object        \n",
      " 19  Award date                                              10313 non-null  float64       \n",
      " 20  Online date                                             10308 non-null  float64       \n",
      " 21  Customer type                                           10311 non-null  object        \n",
      " 22  Industry                                                2528 non-null   object        \n",
      " 23  Customer                                                4410 non-null   object        \n",
      " 24  Plant status                                            10314 non-null  object        \n",
      " 25  Plant type                                              10173 non-null  object        \n",
      " 26  Plant supplier                                          9526 non-null   object        \n",
      " 27  Plant supplier share                                    9182 non-null   float64       \n",
      " 28  Procurement model                                       10297 non-null  object        \n",
      " 29  EPC price                                               10314 non-null  object        \n",
      " 30  Last update                                             10314 non-null  datetime64[ns]\n",
      " 31  Product water salinity                                  1105 non-null   float64       \n",
      " 32  EPC contractor (desal)                                  9267 non-null   object        \n",
      " 33  Equipment supplier : Membranes (Not specified / Other)  5023 non-null   object        \n",
      " 34  Holding Company                                         9267 non-null   object        \n",
      " 35  Plant owner                                             4410 non-null   object        \n",
      " 36  Bid submitted                                           5855 non-null   object        \n",
      " 37  RO System                                               6781 non-null   object        \n",
      " 38  RO Feed Pump Drive                                      6755 non-null   object        \n",
      " 39  RO Membrane Type                                        5526 non-null   object        \n",
      "dtypes: datetime64[ns](1), float64(11), object(28)\n",
      "memory usage: 3.2+ MB\n"
     ]
    }
   ],
   "source": [
    "df.info()"
   ]
  },
  {
   "cell_type": "markdown",
   "id": "ff86fcf1",
   "metadata": {},
   "source": [
    "- There are 3 location variables with no missing values. Dropping the **State/region** variable might not hurt our model \n",
    "- The **Unit Size** and **Capacity** variables appear to be repeated with diffent units\n",
    "- Variables like **thermal design**, **industry**, and **water salinity** have too many missing values.\n",
    "- **EPC price** is an object variable. "
   ]
  },
  {
   "cell_type": "code",
   "execution_count": 7,
   "id": "2bfccf53",
   "metadata": {},
   "outputs": [
    {
     "data": {
      "text/plain": [
       "7470     1,220,000 USD\n",
       "5282       410,000 USD\n",
       "12775      410,000 USD\n",
       "4872     5,200,000 USD\n",
       "7992       490,000 USD\n",
       "Name: EPC price, dtype: object"
      ]
     },
     "execution_count": 7,
     "metadata": {},
     "output_type": "execute_result"
    }
   ],
   "source": [
    "df['EPC price'].sample(5)"
   ]
  },
  {
   "cell_type": "markdown",
   "id": "bd3c55ef",
   "metadata": {},
   "source": [
    "Let's confirm that we have consistent currencies"
   ]
  },
  {
   "cell_type": "code",
   "execution_count": 8,
   "id": "eb3fda8c",
   "metadata": {},
   "outputs": [
    {
     "data": {
      "text/plain": [
       "array(['USD', 'QAR', 'EUR', 'JOD', 'BRL', 'INR', 'SGD', 'CNY', 'TWD',\n",
       "       'MAD', 'SAR', 'OMR'], dtype=object)"
      ]
     },
     "execution_count": 8,
     "metadata": {},
     "output_type": "execute_result"
    }
   ],
   "source": [
    "df['EPC price'].str.split(expand=True)[1].unique()"
   ]
  },
  {
   "cell_type": "markdown",
   "id": "d43975a2",
   "metadata": {},
   "source": [
    "We'll need to convert the prices to a base currency (USD/EUR). "
   ]
  },
  {
   "cell_type": "code",
   "execution_count": 9,
   "id": "fc934a14",
   "metadata": {},
   "outputs": [],
   "source": [
    "#extract currency\n",
    "df['currency'] = df['EPC price'].str.split(expand=True)[1]\n",
    "\n",
    "#extract price value\n",
    "df['EPC price'] = df['EPC price'].str.split(expand=True)[0].str.replace(',','')\n",
    "\n",
    "#convert EPC Price to numeric\n",
    "df['EPC price'] = pd.to_numeric(df['EPC price'])\n",
    "\n",
    "#get unique currencies\n",
    "symbols = df['currency'].unique()"
   ]
  },
  {
   "cell_type": "code",
   "execution_count": 10,
   "id": "f0f782ec",
   "metadata": {},
   "outputs": [],
   "source": [
    "#get current exchange rate for each currency\n",
    "import requests, os, json\n",
    "import api_key\n",
    "KEY = api_key.KEY\n",
    "base = 'USD'\n",
    "symbols = ','.join(symbols)\n",
    "url = f\"https://api.apilayer.com/fixer/latest?base={base}&symbols={symbols}&apikey={KEY}\"\n",
    "\n",
    "if 'rates.json' in os.listdir():\n",
    "    with open(\"rates.json\", \"r\") as f:\n",
    "        rates = json.load(f)\n",
    "else:\n",
    "    resp = requests.get(url)\n",
    "    rates = resp.json()['rates']\n",
    "    with open(\"rates.json\", \"w\") as f:\n",
    "        json.dump(rates, f)"
   ]
  },
  {
   "cell_type": "code",
   "execution_count": 11,
   "id": "d794eacf",
   "metadata": {},
   "outputs": [
    {
     "data": {
      "text/plain": [
       "{'USD': 1,\n",
       " 'QAR': 3.64104,\n",
       " 'EUR': 1.019905,\n",
       " 'JOD': 0.709027,\n",
       " 'BRL': 5.415887,\n",
       " 'INR': 81.856899,\n",
       " 'SGD': 1.434697,\n",
       " 'CNY': 7.115982,\n",
       " 'TWD': 31.881197,\n",
       " 'MAD': 10.95103,\n",
       " 'SAR': 3.75772,\n",
       " 'OMR': 0.38505}"
      ]
     },
     "execution_count": 11,
     "metadata": {},
     "output_type": "execute_result"
    }
   ],
   "source": [
    "rates"
   ]
  },
  {
   "cell_type": "code",
   "execution_count": 12,
   "id": "136a2a8f",
   "metadata": {},
   "outputs": [],
   "source": [
    "#convert prices\n",
    "df['epc_price(usd)'] = df.apply(lambda x: round(x['EPC price']/rates[x['currency']],2),axis=1 )"
   ]
  },
  {
   "cell_type": "code",
   "execution_count": 13,
   "id": "d9cf4470",
   "metadata": {},
   "outputs": [],
   "source": [
    "#make column names and string values consistent\n",
    "df.columns = df.columns.str.lower()\n",
    "df.columns = df.columns.str.replace(' ','_')\n",
    "for column in df.select_dtypes(include='O').columns:\n",
    "    if column != 'country':\n",
    "        df[column] = df[column].str.lower()"
   ]
  },
  {
   "cell_type": "code",
   "execution_count": 14,
   "id": "02d0b94a",
   "metadata": {},
   "outputs": [
    {
     "data": {
      "text/html": [
       "<div>\n",
       "<style scoped>\n",
       "    .dataframe tbody tr th:only-of-type {\n",
       "        vertical-align: middle;\n",
       "    }\n",
       "\n",
       "    .dataframe tbody tr th {\n",
       "        vertical-align: top;\n",
       "    }\n",
       "\n",
       "    .dataframe thead th {\n",
       "        text-align: right;\n",
       "    }\n",
       "</style>\n",
       "<table border=\"1\" class=\"dataframe\">\n",
       "  <thead>\n",
       "    <tr style=\"text-align: right;\">\n",
       "      <th></th>\n",
       "      <th>capacity_(m3/d)</th>\n",
       "      <th>capacity_(mgd)</th>\n",
       "      <th>capacity_(migd)</th>\n",
       "      <th>units</th>\n",
       "      <th>unit_size_(m3/d)</th>\n",
       "      <th>unit_size_(mgd)</th>\n",
       "      <th>unit_size_(migd)</th>\n",
       "      <th>award_date</th>\n",
       "      <th>online_date</th>\n",
       "      <th>plant_supplier_share</th>\n",
       "      <th>epc_price</th>\n",
       "      <th>product_water_salinity</th>\n",
       "      <th>epc_price(usd)</th>\n",
       "    </tr>\n",
       "  </thead>\n",
       "  <tbody>\n",
       "    <tr>\n",
       "      <th>count</th>\n",
       "      <td>10311.000000</td>\n",
       "      <td>10311.000000</td>\n",
       "      <td>10311.000000</td>\n",
       "      <td>10102.000000</td>\n",
       "      <td>10099.000000</td>\n",
       "      <td>10099.000000</td>\n",
       "      <td>10099.000000</td>\n",
       "      <td>10313.000000</td>\n",
       "      <td>10308.000000</td>\n",
       "      <td>9182.000000</td>\n",
       "      <td>1.031400e+04</td>\n",
       "      <td>1105.000000</td>\n",
       "      <td>1.031400e+04</td>\n",
       "    </tr>\n",
       "    <tr>\n",
       "      <th>mean</th>\n",
       "      <td>5597.808554</td>\n",
       "      <td>1.478987</td>\n",
       "      <td>1.231298</td>\n",
       "      <td>1.788656</td>\n",
       "      <td>1569.845008</td>\n",
       "      <td>0.414838</td>\n",
       "      <td>0.345149</td>\n",
       "      <td>1988.509357</td>\n",
       "      <td>1989.356907</td>\n",
       "      <td>98.494768</td>\n",
       "      <td>9.923041e+06</td>\n",
       "      <td>24.561267</td>\n",
       "      <td>8.612353e+06</td>\n",
       "    </tr>\n",
       "    <tr>\n",
       "      <th>std</th>\n",
       "      <td>32052.868682</td>\n",
       "      <td>8.468442</td>\n",
       "      <td>7.050852</td>\n",
       "      <td>7.984676</td>\n",
       "      <td>4920.409954</td>\n",
       "      <td>1.299952</td>\n",
       "      <td>1.082488</td>\n",
       "      <td>11.244649</td>\n",
       "      <td>11.147720</td>\n",
       "      <td>8.902144</td>\n",
       "      <td>9.489007e+07</td>\n",
       "      <td>110.949940</td>\n",
       "      <td>6.414724e+07</td>\n",
       "    </tr>\n",
       "    <tr>\n",
       "      <th>min</th>\n",
       "      <td>8.000000</td>\n",
       "      <td>0.000000</td>\n",
       "      <td>0.000000</td>\n",
       "      <td>1.000000</td>\n",
       "      <td>14.250000</td>\n",
       "      <td>0.000000</td>\n",
       "      <td>0.000000</td>\n",
       "      <td>1944.000000</td>\n",
       "      <td>1945.000000</td>\n",
       "      <td>0.000000</td>\n",
       "      <td>8.000000e+03</td>\n",
       "      <td>0.000000</td>\n",
       "      <td>8.000000e+03</td>\n",
       "    </tr>\n",
       "    <tr>\n",
       "      <th>25%</th>\n",
       "      <td>240.000000</td>\n",
       "      <td>0.060000</td>\n",
       "      <td>0.050000</td>\n",
       "      <td>1.000000</td>\n",
       "      <td>200.000000</td>\n",
       "      <td>0.050000</td>\n",
       "      <td>0.040000</td>\n",
       "      <td>1981.000000</td>\n",
       "      <td>1982.000000</td>\n",
       "      <td>100.000000</td>\n",
       "      <td>2.712500e+05</td>\n",
       "      <td>0.000000</td>\n",
       "      <td>2.712500e+05</td>\n",
       "    </tr>\n",
       "    <tr>\n",
       "      <th>50%</th>\n",
       "      <td>550.000000</td>\n",
       "      <td>0.150000</td>\n",
       "      <td>0.120000</td>\n",
       "      <td>1.000000</td>\n",
       "      <td>480.000000</td>\n",
       "      <td>0.130000</td>\n",
       "      <td>0.110000</td>\n",
       "      <td>1990.000000</td>\n",
       "      <td>1990.000000</td>\n",
       "      <td>100.000000</td>\n",
       "      <td>7.200000e+05</td>\n",
       "      <td>0.000000</td>\n",
       "      <td>7.200000e+05</td>\n",
       "    </tr>\n",
       "    <tr>\n",
       "      <th>75%</th>\n",
       "      <td>1892.000000</td>\n",
       "      <td>0.500000</td>\n",
       "      <td>0.420000</td>\n",
       "      <td>2.000000</td>\n",
       "      <td>1200.000000</td>\n",
       "      <td>0.320000</td>\n",
       "      <td>0.260000</td>\n",
       "      <td>1997.000000</td>\n",
       "      <td>1998.000000</td>\n",
       "      <td>100.000000</td>\n",
       "      <td>2.320000e+06</td>\n",
       "      <td>0.000000</td>\n",
       "      <td>2.310000e+06</td>\n",
       "    </tr>\n",
       "    <tr>\n",
       "      <th>max</th>\n",
       "      <td>909000.000000</td>\n",
       "      <td>240.160000</td>\n",
       "      <td>199.960000</td>\n",
       "      <td>600.000000</td>\n",
       "      <td>140000.000000</td>\n",
       "      <td>36.990000</td>\n",
       "      <td>30.800000</td>\n",
       "      <td>2021.000000</td>\n",
       "      <td>2023.000000</td>\n",
       "      <td>100.000000</td>\n",
       "      <td>4.670000e+09</td>\n",
       "      <td>1500.000000</td>\n",
       "      <td>2.560000e+09</td>\n",
       "    </tr>\n",
       "  </tbody>\n",
       "</table>\n",
       "</div>"
      ],
      "text/plain": [
       "       capacity_(m3/d)  capacity_(mgd)  capacity_(migd)         units  \\\n",
       "count     10311.000000    10311.000000     10311.000000  10102.000000   \n",
       "mean       5597.808554        1.478987         1.231298      1.788656   \n",
       "std       32052.868682        8.468442         7.050852      7.984676   \n",
       "min           8.000000        0.000000         0.000000      1.000000   \n",
       "25%         240.000000        0.060000         0.050000      1.000000   \n",
       "50%         550.000000        0.150000         0.120000      1.000000   \n",
       "75%        1892.000000        0.500000         0.420000      2.000000   \n",
       "max      909000.000000      240.160000       199.960000    600.000000   \n",
       "\n",
       "       unit_size_(m3/d)  unit_size_(mgd)  unit_size_(migd)    award_date  \\\n",
       "count      10099.000000     10099.000000      10099.000000  10313.000000   \n",
       "mean        1569.845008         0.414838          0.345149   1988.509357   \n",
       "std         4920.409954         1.299952          1.082488     11.244649   \n",
       "min           14.250000         0.000000          0.000000   1944.000000   \n",
       "25%          200.000000         0.050000          0.040000   1981.000000   \n",
       "50%          480.000000         0.130000          0.110000   1990.000000   \n",
       "75%         1200.000000         0.320000          0.260000   1997.000000   \n",
       "max       140000.000000        36.990000         30.800000   2021.000000   \n",
       "\n",
       "        online_date  plant_supplier_share     epc_price  \\\n",
       "count  10308.000000           9182.000000  1.031400e+04   \n",
       "mean    1989.356907             98.494768  9.923041e+06   \n",
       "std       11.147720              8.902144  9.489007e+07   \n",
       "min     1945.000000              0.000000  8.000000e+03   \n",
       "25%     1982.000000            100.000000  2.712500e+05   \n",
       "50%     1990.000000            100.000000  7.200000e+05   \n",
       "75%     1998.000000            100.000000  2.320000e+06   \n",
       "max     2023.000000            100.000000  4.670000e+09   \n",
       "\n",
       "       product_water_salinity  epc_price(usd)  \n",
       "count             1105.000000    1.031400e+04  \n",
       "mean                24.561267    8.612353e+06  \n",
       "std                110.949940    6.414724e+07  \n",
       "min                  0.000000    8.000000e+03  \n",
       "25%                  0.000000    2.712500e+05  \n",
       "50%                  0.000000    7.200000e+05  \n",
       "75%                  0.000000    2.310000e+06  \n",
       "max               1500.000000    2.560000e+09  "
      ]
     },
     "execution_count": 14,
     "metadata": {},
     "output_type": "execute_result"
    }
   ],
   "source": [
    "#get stats about numeric columns\n",
    "df.describe()"
   ]
  },
  {
   "cell_type": "markdown",
   "id": "a5434727",
   "metadata": {},
   "source": [
    "We'll need to scale the numerical variables later on since some of them have a wide range"
   ]
  },
  {
   "cell_type": "markdown",
   "id": "98b48c79",
   "metadata": {},
   "source": [
    "# EDA"
   ]
  },
  {
   "cell_type": "markdown",
   "id": "6432a8b7",
   "metadata": {},
   "source": [
    "## EPC Price"
   ]
  },
  {
   "cell_type": "code",
   "execution_count": 15,
   "id": "6f9d0264",
   "metadata": {},
   "outputs": [
    {
     "data": {
      "image/png": "[encoded data removed]",
      "text/plain": [
       "<Figure size 432x288 with 1 Axes>"
      ]
     },
     "metadata": {
      "needs_background": "light"
     },
     "output_type": "display_data"
    }
   ],
   "source": [
    "sns.kdeplot(df['epc_price(usd)'],shade=True)\n",
    "plt.title('EPC Price');"
   ]
  },
  {
   "cell_type": "markdown",
   "id": "b7521136",
   "metadata": {},
   "source": [
    "It costs less than **half a billion dollars** to build a lot of plants in the dataset."
   ]
  },
  {
   "cell_type": "markdown",
   "id": "b835938f",
   "metadata": {},
   "source": [
    "Machine learning models could find it difficult to learn properly from a heavily skewed target variable. Let's log transform the price variable"
   ]
  },
  {
   "cell_type": "code",
   "execution_count": 16,
   "id": "4edb1f44",
   "metadata": {},
   "outputs": [
    {
     "data": {
      "image/png": "[encoded data removed]",
      "text/plain": [
       "<Figure size 432x288 with 1 Axes>"
      ]
     },
     "metadata": {
      "needs_background": "light"
     },
     "output_type": "display_data"
    }
   ],
   "source": [
    "df['log_price'] = np.log1p(df['epc_price(usd)'])\n",
    "sns.kdeplot(df['log_price'],shade=True)\n",
    "plt.title('Transformed EPC Price')\n",
    "plt.xlabel('log of epc_price(usd)');"
   ]
  },
  {
   "cell_type": "markdown",
   "id": "e2a374ec",
   "metadata": {},
   "source": [
    "## Award Date"
   ]
  },
  {
   "cell_type": "code",
   "execution_count": 17,
   "id": "69793b14",
   "metadata": {},
   "outputs": [
    {
     "data": {
      "image/png": "[encoded data removed]",
      "text/plain": [
       "<Figure size 432x288 with 1 Axes>"
      ]
     },
     "metadata": {
      "needs_background": "light"
     },
     "output_type": "display_data"
    }
   ],
   "source": [
    "sns.histplot(df.award_date);"
   ]
  },
  {
   "cell_type": "markdown",
   "id": "9a56cfac",
   "metadata": {},
   "source": [
    "Most of the plant contracts were awarded between the late 1900s and early 2000s "
   ]
  },
  {
   "cell_type": "markdown",
   "id": "49475b67",
   "metadata": {},
   "source": [
    "## Award Date and EPC Price"
   ]
  },
  {
   "cell_type": "code",
   "execution_count": 92,
   "id": "aa47c215",
   "metadata": {
    "scrolled": false
   },
   "outputs": [
    {
     "data": {
      "image/png": "[encoded data removed]",
      "text/plain": [
       "<Figure size 360x360 with 1 Axes>"
      ]
     },
     "metadata": {
      "needs_background": "light"
     },
     "output_type": "display_data"
    }
   ],
   "source": [
    "sns.lmplot(x='award_date',y='log_price',data=df);"
   ]
  },
  {
   "cell_type": "markdown",
   "id": "a6e3836f",
   "metadata": {},
   "source": [
    "Older plant contracts typically cost less than more recent plant contracts"
   ]
  },
  {
   "cell_type": "markdown",
   "id": "98662ce8",
   "metadata": {},
   "source": [
    "## Country"
   ]
  },
  {
   "cell_type": "code",
   "execution_count": 19,
   "id": "b068bc4e",
   "metadata": {},
   "outputs": [
    {
     "data": {
      "text/plain": [
       "143"
      ]
     },
     "execution_count": 19,
     "metadata": {},
     "output_type": "execute_result"
    }
   ],
   "source": [
    "df.country.nunique()"
   ]
  },
  {
   "cell_type": "markdown",
   "id": "32de6229",
   "metadata": {},
   "source": [
    "The dataset contains plants built in about 143 countries"
   ]
  },
  {
   "cell_type": "code",
   "execution_count": 20,
   "id": "898b8c11",
   "metadata": {
    "scrolled": true
   },
   "outputs": [
    {
     "data": {
      "image/png": "[encoded data removed]",
      "text/plain": [
       "<Figure size 432x288 with 1 Axes>"
      ]
     },
     "metadata": {
      "needs_background": "light"
     },
     "output_type": "display_data"
    }
   ],
   "source": [
    "df.country.value_counts(normalize=True,ascending=True)[-10:].plot.barh();"
   ]
  },
  {
   "cell_type": "markdown",
   "id": "9e1187ab",
   "metadata": {},
   "source": [
    "Over **45 percent** of the plants were built in **America and Asia**"
   ]
  },
  {
   "cell_type": "markdown",
   "id": "6f6021d0",
   "metadata": {},
   "source": [
    "## EPC Price and Location"
   ]
  },
  {
   "cell_type": "code",
   "execution_count": 21,
   "id": "9f4d8142",
   "metadata": {},
   "outputs": [
    {
     "data": {
      "text/plain": [
       "12.0"
      ]
     },
     "execution_count": 21,
     "metadata": {},
     "output_type": "execute_result"
    }
   ],
   "source": [
    "#find average numbber of plants per country\n",
    "df.country.value_counts().median()"
   ]
  },
  {
   "cell_type": "markdown",
   "id": "57234674",
   "metadata": {},
   "source": [
    "We'll calculate the average cost to build a plant in countries with at least 12 plants"
   ]
  },
  {
   "cell_type": "code",
   "execution_count": 22,
   "id": "d0d0bb35",
   "metadata": {},
   "outputs": [
    {
     "data": {
      "image/png": "[encoded data removed]",
      "text/plain": [
       "<Figure size 576x432 with 1 Axes>"
      ]
     },
     "metadata": {
      "needs_background": "light"
     },
     "output_type": "display_data"
    }
   ],
   "source": [
    "average_prices = df.groupby('country')['log_price'].agg(['mean','count'])\n",
    "\n",
    "plt.figure(figsize=(8,6))\n",
    "average_prices[average_prices['count']>=12]['mean'].sort_values()[-10:].plot.barh()\n",
    "plt.title('Price and Country');"
   ]
  },
  {
   "cell_type": "markdown",
   "id": "ae16f8c2",
   "metadata": {},
   "source": [
    "It is more expensive to build a plant in countries with a dry climate, though this is not a strong correlation."
   ]
  },
  {
   "cell_type": "code",
   "execution_count": 23,
   "id": "0f932391",
   "metadata": {},
   "outputs": [
    {
     "data": {
      "image/png": "[encoded data removed]",
      "text/plain": [
       "<Figure size 432x288 with 1 Axes>"
      ]
     },
     "metadata": {
      "needs_background": "light"
     },
     "output_type": "display_data"
    }
   ],
   "source": [
    "sns.boxplot(x='region',y='log_price',data=df)\n",
    "plt.title('Price and Region');"
   ]
  },
  {
   "cell_type": "code",
   "execution_count": 24,
   "id": "8992c9ac",
   "metadata": {
    "scrolled": true
   },
   "outputs": [
    {
     "data": {
      "image/png": "[encoded data removed]",
      "text/plain": [
       "<Figure size 432x288 with 1 Axes>"
      ]
     },
     "metadata": {
      "needs_background": "light"
     },
     "output_type": "display_data"
    }
   ],
   "source": [
    "sns.boxplot(y='subregion',x='log_price',data=df)\n",
    "plt.title('Price and Subregion');"
   ]
  },
  {
   "cell_type": "code",
   "execution_count": 25,
   "id": "16c9d918",
   "metadata": {
    "scrolled": true
   },
   "outputs": [
    {
     "data": {
      "image/png": "[encoded data removed]",
      "text/plain": [
       "<Figure size 432x288 with 1 Axes>"
      ]
     },
     "metadata": {
      "needs_background": "light"
     },
     "output_type": "display_data"
    }
   ],
   "source": [
    "sns.boxplot(y='location_type',x='log_price',data=df)\n",
    "plt.title('Price and Location Type');"
   ]
  },
  {
   "cell_type": "markdown",
   "id": "281cd7e4",
   "metadata": {},
   "source": [
    "There hasn't been a strong relationship between price and most of the location variables. We'll create another column to record the continent of each country."
   ]
  },
  {
   "cell_type": "code",
   "execution_count": 26,
   "id": "e13418ef",
   "metadata": {},
   "outputs": [
    {
     "data": {
      "text/plain": [
       "array(['Algeria', 'Australia', 'Bahrain', 'Canada', 'Egypt', 'France',\n",
       "       'Greece', 'India', 'Iran', 'Iraq', 'Italy', 'Japan', 'Jordan',\n",
       "       'Kazakhstan', 'Libya', 'Mexico', 'Morocco', 'Myanmar', 'Oman',\n",
       "       'Poland', 'Qatar', 'Saudi Arabia', 'South Korea', 'Spain', 'Syria',\n",
       "       'U.K.', 'U.S.A.', 'United Arab Emirates', 'Yemen', 'Antarctica',\n",
       "       'Antigua and Barbuda', 'Argentina', 'Aruba', 'Austria', 'Bahamas',\n",
       "       'Belgium', 'Belize', 'Chile', 'Denmark', 'Ecuador', 'Germany',\n",
       "       'Israel', 'Kuwait', 'Netherlands', 'Nigeria', 'Portugal', 'Russia',\n",
       "       'Saint Helena', 'Sint Maarten', 'South Africa', 'Switzerland',\n",
       "       'Trinidad and Tobago', 'Turkey', 'Turkmenistan', 'Azerbaijan',\n",
       "       'Barbados', 'Bermuda', 'Bonaire, Sint Eustatius and Saba',\n",
       "       'Brazil', 'Cabo Verde', 'China', 'Indonesia', 'Ireland', 'Lebanon',\n",
       "       'Liechtenstein', 'Malaysia', 'Pakistan', 'Philippines', 'Serbia',\n",
       "       'Thailand', 'Tunisia', 'British Virgin Islands', 'Bulgaria',\n",
       "       'Cayman Islands', 'Grenada', 'Singapore', 'Venezuela', 'Anguilla',\n",
       "       'Colombia', 'Costa Rica', 'Cuba', 'Curaçao', 'Cyprus',\n",
       "       'Czech Republic', 'Malta', 'Senegal', 'Dominican Republic',\n",
       "       'Gibraltar', 'Marshall Islands', 'Republic of Djibouti', 'Finland',\n",
       "       'Georgia', 'Palestine', 'Sweden', 'Taiwan', 'Comoros', 'Eritrea',\n",
       "       'French Polynesia', 'Guadeloupe', 'Guam', 'Guernsey (UK)',\n",
       "       'Guinea', 'Haiti', 'Hong Kong', 'Hungary', 'Maldives', 'Vietnam',\n",
       "       'Jamaica', 'Peru', 'Jersey (UK)',\n",
       "       'United States Minor Outlying Islands', 'Fiji', 'Botswana',\n",
       "       'Kenya', 'Namibia', 'U.S. Virgin Islands', 'Ukraine', 'Belarus',\n",
       "       'Cambodia', 'Somalia', 'Angola',\n",
       "       'Democratic Republic of the Congo', 'Mauritania', 'Nauru',\n",
       "       'New Zealand', 'Norway', 'Honduras', 'Nicaragua', 'Paraguay',\n",
       "       'Puerto Rico', 'Sudan', 'Turks and Caicos Islands', 'Mauritius',\n",
       "       'Romania', 'El Salvador', 'Northern Mariana Islands',\n",
       "       'Saint Barthelemy', 'Saint Lucia', 'Saint Martin', 'Slovenia',\n",
       "       'Ghana', 'Kiribati', 'Uzbekistan'], dtype=object)"
      ]
     },
     "execution_count": 26,
     "metadata": {},
     "output_type": "execute_result"
    }
   ],
   "source": [
    "df['country'].unique()"
   ]
  },
  {
   "cell_type": "markdown",
   "id": "65fa3257",
   "metadata": {},
   "source": [
    "Some of the country values are regions. We'll replace these countries with their actual countries. We'll also make the country names consistent"
   ]
  },
  {
   "cell_type": "code",
   "execution_count": 27,
   "id": "bf4c2716",
   "metadata": {},
   "outputs": [],
   "source": [
    "#clean country column\n",
    "df['country'][(df['country'].str.contains('U.K')) | (df['country'].str.contains('UK'))] = 'United Kingdom'\n",
    "df['country'][(df['country'].str.contains('U.S')) | (df['country'].str.contains('US'))] = 'United States'"
   ]
  },
  {
   "cell_type": "code",
   "execution_count": 28,
   "id": "07beb0ef",
   "metadata": {},
   "outputs": [
    {
     "name": "stdout",
     "output_type": "stream",
     "text": [
      "Antarctica\n",
      "Saint Helena\n",
      "Sint Maarten\n",
      "United States Minor Outlying Islands\n",
      "Saint Barthelemy\n"
     ]
    }
   ],
   "source": [
    "#generate continent \n",
    "import pycountry_convert as pc\n",
    "\n",
    "continents = {}\n",
    "for country in df['country'].unique():\n",
    "    try:\n",
    "        country_code = pc.country_name_to_country_alpha2(country)\n",
    "        continent = pc.country_alpha2_to_continent_code(country_code) \n",
    "        continents[country] = continent\n",
    "    except:\n",
    "        print(country)"
   ]
  },
  {
   "cell_type": "code",
   "execution_count": 29,
   "id": "076eece6",
   "metadata": {},
   "outputs": [],
   "source": [
    "#manually fill the continent values for the unidentified countries\n",
    "others = {'Antarctica':'Antarctica','Saint Helena':'AF','Sint Maarten':'NA',\n",
    "         'United States Minor Outlying Islands':'NA','Saint Barthelemy':'NA'}\n",
    "continents.update(others)"
   ]
  },
  {
   "cell_type": "code",
   "execution_count": 30,
   "id": "5c6201c9",
   "metadata": {
    "scrolled": true
   },
   "outputs": [
    {
     "data": {
      "text/plain": [
       "array(['AF', 'OC', 'AS', 'NA', 'EU', 'Antarctica', 'SA'], dtype=object)"
      ]
     },
     "execution_count": 30,
     "metadata": {},
     "output_type": "execute_result"
    }
   ],
   "source": [
    "#map each country to their respective continents\n",
    "df['continent'] = df['country'].map(continents)\n",
    "\n",
    "#check the resulting unique continents\n",
    "df['continent'].unique()"
   ]
  },
  {
   "cell_type": "code",
   "execution_count": 31,
   "id": "b02b3563",
   "metadata": {},
   "outputs": [
    {
     "data": {
      "image/png": "[encoded data removed]",
      "text/plain": [
       "<Figure size 432x288 with 1 Axes>"
      ]
     },
     "metadata": {
      "needs_background": "light"
     },
     "output_type": "display_data"
    }
   ],
   "source": [
    "sns.boxplot(x='continent',y='log_price',data=df)\n",
    "plt.title('Price and Continent');"
   ]
  },
  {
   "cell_type": "markdown",
   "id": "b42df2f0",
   "metadata": {},
   "source": [
    "Maybe location is not as important as we expect it to be"
   ]
  },
  {
   "cell_type": "code",
   "execution_count": 77,
   "id": "8dbc9690",
   "metadata": {},
   "outputs": [
    {
     "data": {
      "text/plain": [
       "flash                                  648\n",
       "mvc (mechanical vapour compression)    359\n",
       "tvc (thermal vapor compression)        186\n",
       "med (pure)                              15\n",
       "tvc (thermal vapour compression)         1\n",
       "Name: thermal_design, dtype: int64"
      ]
     },
     "execution_count": 77,
     "metadata": {},
     "output_type": "execute_result"
    }
   ],
   "source": [
    "df.thermal_design.value_counts()"
   ]
  },
  {
   "cell_type": "code",
   "execution_count": 76,
   "id": "38b71c79",
   "metadata": {},
   "outputs": [
    {
     "data": {
      "image/png": "[encoded data removed]",
      "text/plain": [
       "<Figure size 432x288 with 2 Axes>"
      ]
     },
     "metadata": {
      "needs_background": "light"
     },
     "output_type": "display_data"
    }
   ],
   "source": [
    "sns.heatmap(pd.crosstab(df.thermal_design,df.technology,normalize='index'),annot=True);"
   ]
  },
  {
   "cell_type": "code",
   "execution_count": null,
   "id": "92f481d6",
   "metadata": {},
   "outputs": [],
   "source": [
    "sns.heatmap(pd.crosstab(,annot=True);"
   ]
  },
  {
   "cell_type": "markdown",
   "id": "a9472494",
   "metadata": {},
   "source": [
    "## EPC Price and Numerical Features"
   ]
  },
  {
   "cell_type": "code",
   "execution_count": 32,
   "id": "f6c0b9fb",
   "metadata": {
    "scrolled": false
   },
   "outputs": [
    {
     "data": {
      "image/png": "[encoded data removed]",
      "text/plain": [
       "<Figure size 720x576 with 2 Axes>"
      ]
     },
     "metadata": {
      "needs_background": "light"
     },
     "output_type": "display_data"
    }
   ],
   "source": [
    "plt.figure(figsize=(10,8))\n",
    "sns.heatmap(df.corr(),annot=True);"
   ]
  },
  {
   "cell_type": "markdown",
   "id": "ce938062",
   "metadata": {},
   "source": [
    "- The size and capacity of a plant greatly affect its price\n",
    "- The supplier's share on plant's contract affects its price negatively\n",
    "- online date and award date are highy correlated"
   ]
  },
  {
   "cell_type": "markdown",
   "id": "88ac47d4",
   "metadata": {},
   "source": [
    "## EPC Price and Size"
   ]
  },
  {
   "cell_type": "code",
   "execution_count": 33,
   "id": "677cb19d",
   "metadata": {},
   "outputs": [
    {
     "data": {
      "image/png": "[encoded data removed]",
      "text/plain": [
       "<Figure size 432x288 with 1 Axes>"
      ]
     },
     "metadata": {
      "needs_background": "light"
     },
     "output_type": "display_data"
    }
   ],
   "source": [
    "sns.boxplot(x='size',y='log_price',data=df);"
   ]
  },
  {
   "cell_type": "markdown",
   "id": "b13d36e1",
   "metadata": {},
   "source": [
    "Large plants clearly cost more"
   ]
  },
  {
   "cell_type": "markdown",
   "id": "b24525d6",
   "metadata": {},
   "source": [
    "## EPC Price and Technology"
   ]
  },
  {
   "cell_type": "code",
   "execution_count": 34,
   "id": "da697518",
   "metadata": {
    "scrolled": false
   },
   "outputs": [
    {
     "data": {
      "image/png": "[encoded data removed]",
      "text/plain": [
       "<Figure size 576x432 with 1 Axes>"
      ]
     },
     "metadata": {
      "needs_background": "light"
     },
     "output_type": "display_data"
    }
   ],
   "source": [
    "plt.figure(figsize=(8,6))\n",
    "sns.boxplot(y='technology',x='log_price',data=df);"
   ]
  },
  {
   "cell_type": "markdown",
   "id": "9eacf0fb",
   "metadata": {},
   "source": [
    "On average, it is more expensive to use nanofiltration on a plant"
   ]
  },
  {
   "cell_type": "markdown",
   "id": "7ef7cdf7",
   "metadata": {},
   "source": [
    "## EPC Price and Plant Status"
   ]
  },
  {
   "cell_type": "code",
   "execution_count": 35,
   "id": "94135cd4",
   "metadata": {},
   "outputs": [
    {
     "data": {
      "image/png": "[encoded data removed]",
      "text/plain": [
       "<Figure size 432x288 with 1 Axes>"
      ]
     },
     "metadata": {
      "needs_background": "light"
     },
     "output_type": "display_data"
    }
   ],
   "source": [
    "sns.boxplot(y='plant_status',x='log_price',data=df);"
   ]
  },
  {
   "cell_type": "markdown",
   "id": "e206ecb9",
   "metadata": {},
   "source": [
    "Plants under construction tend to cost more. This variable might not be so helpful in predicting a plant's cost since a plant's status can only be known when the construction or operation must have begun"
   ]
  },
  {
   "cell_type": "markdown",
   "id": "8de109e1",
   "metadata": {},
   "source": [
    "## EPC Price and Plant Type"
   ]
  },
  {
   "cell_type": "code",
   "execution_count": 36,
   "id": "5c5e6aa5",
   "metadata": {},
   "outputs": [
    {
     "data": {
      "image/png": "[encoded data removed]",
      "text/plain": [
       "<Figure size 432x288 with 1 Axes>"
      ]
     },
     "metadata": {
      "needs_background": "light"
     },
     "output_type": "display_data"
    }
   ],
   "source": [
    "sns.boxplot(x='plant_type',y='log_price',data=df);"
   ]
  },
  {
   "cell_type": "markdown",
   "id": "13f8be9e",
   "metadata": {},
   "source": [
    "Dual purpose plants cost more"
   ]
  },
  {
   "cell_type": "markdown",
   "id": "c4ba94e0",
   "metadata": {},
   "source": [
    "## EPC Price and Procurement Model"
   ]
  },
  {
   "cell_type": "code",
   "execution_count": 37,
   "id": "d5ad59cd",
   "metadata": {},
   "outputs": [
    {
     "data": {
      "image/png": "[encoded data removed]",
      "text/plain": [
       "<Figure size 432x288 with 1 Axes>"
      ]
     },
     "metadata": {
      "needs_background": "light"
     },
     "output_type": "display_data"
    }
   ],
   "source": [
    "sns.boxplot(x='procurement_model',y='log_price',data=df);"
   ]
  },
  {
   "cell_type": "markdown",
   "id": "f5259418",
   "metadata": {},
   "source": [
    "**iwpp** models appear to cost more"
   ]
  },
  {
   "cell_type": "markdown",
   "id": "394e3d1d",
   "metadata": {},
   "source": [
    "## EPC Price and RO System"
   ]
  },
  {
   "cell_type": "code",
   "execution_count": 38,
   "id": "6ff8658e",
   "metadata": {},
   "outputs": [
    {
     "data": {
      "image/png": "[encoded data removed]",
      "text/plain": [
       "<Figure size 432x288 with 1 Axes>"
      ]
     },
     "metadata": {
      "needs_background": "light"
     },
     "output_type": "display_data"
    }
   ],
   "source": [
    "sns.boxplot(x='ro_system',y='log_price',data=df);"
   ]
  },
  {
   "cell_type": "markdown",
   "id": "2eef4c9e",
   "metadata": {},
   "source": [
    "EPC Price and **ro_system** are correlated"
   ]
  },
  {
   "cell_type": "markdown",
   "id": "c9371736",
   "metadata": {},
   "source": [
    "## EPC Price and RO Feed Pump Drive"
   ]
  },
  {
   "cell_type": "code",
   "execution_count": 39,
   "id": "a6f26fc8",
   "metadata": {},
   "outputs": [
    {
     "data": {
      "image/png": "[encoded data removed]",
      "text/plain": [
       "<Figure size 432x288 with 1 Axes>"
      ]
     },
     "metadata": {
      "needs_background": "light"
     },
     "output_type": "display_data"
    }
   ],
   "source": [
    "sns.boxplot(x='ro_feed_pump_drive',y='log_price',data=df);"
   ]
  },
  {
   "cell_type": "markdown",
   "id": "60947f37",
   "metadata": {},
   "source": [
    "Steam turbine plants are more expensive"
   ]
  },
  {
   "cell_type": "markdown",
   "id": "7bcbf7dd",
   "metadata": {},
   "source": [
    "## EPC Price and RO Membrane Type"
   ]
  },
  {
   "cell_type": "code",
   "execution_count": 40,
   "id": "a0bc7d61",
   "metadata": {},
   "outputs": [
    {
     "data": {
      "image/png": "[encoded data removed]",
      "text/plain": [
       "<Figure size 432x288 with 1 Axes>"
      ]
     },
     "metadata": {
      "needs_background": "light"
     },
     "output_type": "display_data"
    }
   ],
   "source": [
    "sns.boxplot(y='ro_membrane_type',x='log_price',data=df);"
   ]
  },
  {
   "cell_type": "markdown",
   "id": "1b563506",
   "metadata": {},
   "source": [
    "The price of a desalination plant and the type of membrane seem to be related in a measurable way."
   ]
  },
  {
   "cell_type": "markdown",
   "id": "ea5a12bf",
   "metadata": {},
   "source": [
    "Overall, a plant's technical specifications can reveal a lot about its price."
   ]
  },
  {
   "cell_type": "markdown",
   "id": "07e82c0c",
   "metadata": {},
   "source": [
    "# Data Preprocessing"
   ]
  },
  {
   "cell_type": "markdown",
   "id": "e13a89ee",
   "metadata": {},
   "source": [
    "We'll exclude the following variables in building our model:\n",
    "- **project_name** : We do not expect name to affect the price of a plant\n",
    "- **(mgd)**, **(migd)** variables: since these are just unit conversions of the capacity and size variables\n",
    "- **award_date, online_date, plant_status** : These are not variables we would know beforehand\n",
    "- **epc_price, currency, epc_price(usd),**: We only need the **log_price** as our target variable"
   ]
  },
  {
   "cell_type": "code",
   "execution_count": 41,
   "id": "04d88aeb",
   "metadata": {},
   "outputs": [],
   "source": [
    "#seperate features from target\n",
    "X = df[['country', 'region', 'subregion', 'location', 'state/region',\n",
    "       'location_type', 'capacity_(m3/d)', 'size',\n",
    "       'units', 'unit_size_(m3/d)',\n",
    "       'technology', 'thermal_design',\n",
    "       'membrane_type_(ro)', 'feedwater',\n",
    "       'customer_type', 'industry', 'customer', 'plant_type',\n",
    "       'plant_supplier', 'plant_supplier_share', 'procurement_model',\n",
    "       'product_water_salinity',\n",
    "       'epc_contractor_(desal)',\n",
    "       'equipment_supplier_:_membranes_(not_specified_/_other)',\n",
    "       'holding_company', 'plant_owner', 'bid_submitted', 'ro_system',\n",
    "       'ro_feed_pump_drive', 'ro_membrane_type',\n",
    "       'continent']]\n",
    "y = df['log_price']"
   ]
  },
  {
   "cell_type": "code",
   "execution_count": 42,
   "id": "d415bb28",
   "metadata": {},
   "outputs": [],
   "source": [
    "#split into train and test sets\n",
    "from sklearn.model_selection import train_test_split\n",
    "\n",
    "X_train, X_test, y_train, y_test = train_test_split(X,y, test_size=0.2, random_state=0)\n",
    "X_train, X_val, y_train, y_val = train_test_split(X_train,y_train, test_size=0.2, random_state=0)"
   ]
  },
  {
   "cell_type": "code",
   "execution_count": 43,
   "id": "623d177b",
   "metadata": {},
   "outputs": [
    {
     "data": {
      "text/plain": [
       "((6600, 31), (2063, 31), (1651, 31), (6600,), (2063,), (1651,))"
      ]
     },
     "execution_count": 43,
     "metadata": {},
     "output_type": "execute_result"
    }
   ],
   "source": [
    "X_train.shape, X_test.shape, X_val.shape, y_train.shape, y_test.shape, y_val.shape"
   ]
  },
  {
   "cell_type": "markdown",
   "id": "dd46ebf6",
   "metadata": {},
   "source": [
    "## Handle Missing Values"
   ]
  },
  {
   "cell_type": "code",
   "execution_count": 44,
   "id": "02e875d6",
   "metadata": {},
   "outputs": [],
   "source": [
    "#seperate numerical columns from categorical ones\n",
    "num_train = X_train.select_dtypes(exclude='O')\n",
    "cat_train = X_train.select_dtypes(include='O')"
   ]
  },
  {
   "cell_type": "code",
   "execution_count": 45,
   "id": "d4531842",
   "metadata": {},
   "outputs": [],
   "source": [
    "#fill numerical columns with mean and categorical columns with most frequent\n",
    "from sklearn.impute import SimpleImputer\n",
    "num_imputer = SimpleImputer(strategy='median')\n",
    "cat_imputer = SimpleImputer(strategy='most_frequent')\n",
    "\n",
    "#fill missing values\n",
    "num_train = pd.DataFrame(num_imputer.fit_transform(num_train),columns = num_train.columns)\n",
    "cat_train = pd.DataFrame(cat_imputer.fit_transform(cat_train),columns = cat_train.columns)"
   ]
  },
  {
   "cell_type": "markdown",
   "id": "699c7c21",
   "metadata": {},
   "source": [
    "## Feature Scaling"
   ]
  },
  {
   "cell_type": "code",
   "execution_count": 46,
   "id": "a3bb274e",
   "metadata": {},
   "outputs": [],
   "source": [
    "from sklearn.preprocessing import StandardScaler\n",
    "\n",
    "scaler = StandardScaler()\n",
    "\n",
    "#scale numerical data\n",
    "num_scaled = scaler.fit_transform(num_train)\n",
    "num_scaled_df = pd.DataFrame(num_scaled,columns=num_train.columns)"
   ]
  },
  {
   "cell_type": "markdown",
   "id": "e9a16583",
   "metadata": {},
   "source": [
    "## Categorical Encoding"
   ]
  },
  {
   "cell_type": "code",
   "execution_count": 47,
   "id": "be59a312",
   "metadata": {},
   "outputs": [
    {
     "name": "stdout",
     "output_type": "stream",
     "text": [
      "country: 131\n",
      "region: 3\n",
      "subregion: 8\n",
      "location: 2050\n",
      "state/region: 182\n",
      "location_type: 3\n",
      "size: 4\n",
      "technology: 10\n",
      "thermal_design: 4\n",
      "membrane_type_(ro): 5\n",
      "feedwater: 6\n",
      "customer_type: 7\n",
      "industry: 10\n",
      "customer: 1420\n",
      "plant_type: 2\n",
      "plant_supplier: 473\n",
      "procurement_model: 9\n",
      "epc_contractor_(desal): 457\n",
      "equipment_supplier_:_membranes_(not_specified_/_other): 50\n",
      "holding_company: 279\n",
      "plant_owner: 1420\n",
      "bid_submitted: 415\n",
      "ro_system: 3\n",
      "ro_feed_pump_drive: 2\n",
      "ro_membrane_type: 5\n",
      "continent: 7\n"
     ]
    }
   ],
   "source": [
    "#explore cat columns\n",
    "for column in cat_train.columns:\n",
    "    print(f'{column}: {cat_train[column].nunique()}')"
   ]
  },
  {
   "cell_type": "markdown",
   "id": "f30b0fae",
   "metadata": {},
   "source": [
    "We'll consider columns with not more than 10 categories"
   ]
  },
  {
   "cell_type": "code",
   "execution_count": 48,
   "id": "c73dbe1a",
   "metadata": {},
   "outputs": [],
   "source": [
    "not_more_than_10 = [column for column in cat_train.columns if cat_train[column].nunique() <= 10]\n",
    "cat_train_10 = cat_train[not_more_than_10]"
   ]
  },
  {
   "cell_type": "code",
   "execution_count": 49,
   "id": "40f7f950",
   "metadata": {},
   "outputs": [
    {
     "data": {
      "text/html": [
       "<div>\n",
       "<style scoped>\n",
       "    .dataframe tbody tr th:only-of-type {\n",
       "        vertical-align: middle;\n",
       "    }\n",
       "\n",
       "    .dataframe tbody tr th {\n",
       "        vertical-align: top;\n",
       "    }\n",
       "\n",
       "    .dataframe thead th {\n",
       "        text-align: right;\n",
       "    }\n",
       "</style>\n",
       "<table border=\"1\" class=\"dataframe\">\n",
       "  <thead>\n",
       "    <tr style=\"text-align: right;\">\n",
       "      <th></th>\n",
       "      <th>region</th>\n",
       "      <th>subregion</th>\n",
       "      <th>location_type</th>\n",
       "      <th>size</th>\n",
       "      <th>technology</th>\n",
       "      <th>thermal_design</th>\n",
       "      <th>membrane_type_(ro)</th>\n",
       "      <th>feedwater</th>\n",
       "      <th>customer_type</th>\n",
       "      <th>industry</th>\n",
       "      <th>plant_type</th>\n",
       "      <th>procurement_model</th>\n",
       "      <th>ro_system</th>\n",
       "      <th>ro_feed_pump_drive</th>\n",
       "      <th>ro_membrane_type</th>\n",
       "      <th>continent</th>\n",
       "    </tr>\n",
       "  </thead>\n",
       "  <tbody>\n",
       "    <tr>\n",
       "      <th>0</th>\n",
       "      <td>emea</td>\n",
       "      <td>middle east / north africa</td>\n",
       "      <td>land based</td>\n",
       "      <td>m</td>\n",
       "      <td>med (multi-effect distillation)</td>\n",
       "      <td>tvc (thermal vapor compression)</td>\n",
       "      <td>spiral wound membrane</td>\n",
       "      <td>seawater (tds 20000ppm - 50000ppm)</td>\n",
       "      <td>industry (tds &lt;10ppm)</td>\n",
       "      <td>refining/chemicals</td>\n",
       "      <td>stand-alone</td>\n",
       "      <td>epc</td>\n",
       "      <td>single pass</td>\n",
       "      <td>electric motor</td>\n",
       "      <td>spiral wound membrane</td>\n",
       "      <td>AS</td>\n",
       "    </tr>\n",
       "    <tr>\n",
       "      <th>1</th>\n",
       "      <td>asia pacific</td>\n",
       "      <td>east asia / pacific</td>\n",
       "      <td>land based</td>\n",
       "      <td>s</td>\n",
       "      <td>ro (reverse osmosis)</td>\n",
       "      <td>flash</td>\n",
       "      <td>spiral wound membrane</td>\n",
       "      <td>wastewater</td>\n",
       "      <td>industry (tds &lt;10ppm)</td>\n",
       "      <td>electronics</td>\n",
       "      <td>stand-alone</td>\n",
       "      <td>epc</td>\n",
       "      <td>single pass</td>\n",
       "      <td>electric motor</td>\n",
       "      <td>spiral wound membrane</td>\n",
       "      <td>AS</td>\n",
       "    </tr>\n",
       "    <tr>\n",
       "      <th>2</th>\n",
       "      <td>emea</td>\n",
       "      <td>western europe</td>\n",
       "      <td>land based</td>\n",
       "      <td>s</td>\n",
       "      <td>ro (reverse osmosis)</td>\n",
       "      <td>flash</td>\n",
       "      <td>spiral wound membrane</td>\n",
       "      <td>brackish water or inland water (tds 3000ppm - ...</td>\n",
       "      <td>tourist facilities as drinking water (tds 10pp...</td>\n",
       "      <td>power</td>\n",
       "      <td>stand-alone</td>\n",
       "      <td>epc</td>\n",
       "      <td>single pass</td>\n",
       "      <td>electric motor</td>\n",
       "      <td>spiral wound membrane</td>\n",
       "      <td>EU</td>\n",
       "    </tr>\n",
       "    <tr>\n",
       "      <th>3</th>\n",
       "      <td>emea</td>\n",
       "      <td>middle east / north africa</td>\n",
       "      <td>land based</td>\n",
       "      <td>s</td>\n",
       "      <td>ro (reverse osmosis)</td>\n",
       "      <td>flash</td>\n",
       "      <td>spiral wound membrane</td>\n",
       "      <td>brackish water or inland water (tds 3000ppm - ...</td>\n",
       "      <td>tourist facilities as drinking water (tds 10pp...</td>\n",
       "      <td>power</td>\n",
       "      <td>stand-alone</td>\n",
       "      <td>epc</td>\n",
       "      <td>single pass</td>\n",
       "      <td>electric motor</td>\n",
       "      <td>spiral wound membrane</td>\n",
       "      <td>AS</td>\n",
       "    </tr>\n",
       "    <tr>\n",
       "      <th>4</th>\n",
       "      <td>americas</td>\n",
       "      <td>latin america / caribbean</td>\n",
       "      <td>land based</td>\n",
       "      <td>s</td>\n",
       "      <td>ro (reverse osmosis)</td>\n",
       "      <td>flash</td>\n",
       "      <td>spiral wound membrane</td>\n",
       "      <td>seawater (tds 20000ppm - 50000ppm)</td>\n",
       "      <td>industry (tds &lt;10ppm)</td>\n",
       "      <td>power</td>\n",
       "      <td>stand-alone</td>\n",
       "      <td>epc</td>\n",
       "      <td>single pass</td>\n",
       "      <td>electric motor</td>\n",
       "      <td>spiral wound membrane</td>\n",
       "      <td>SA</td>\n",
       "    </tr>\n",
       "  </tbody>\n",
       "</table>\n",
       "</div>"
      ],
      "text/plain": [
       "         region                   subregion location_type size  \\\n",
       "0          emea  middle east / north africa    land based    m   \n",
       "1  asia pacific         east asia / pacific    land based    s   \n",
       "2          emea              western europe    land based    s   \n",
       "3          emea  middle east / north africa    land based    s   \n",
       "4      americas   latin america / caribbean    land based    s   \n",
       "\n",
       "                        technology                   thermal_design  \\\n",
       "0  med (multi-effect distillation)  tvc (thermal vapor compression)   \n",
       "1             ro (reverse osmosis)                            flash   \n",
       "2             ro (reverse osmosis)                            flash   \n",
       "3             ro (reverse osmosis)                            flash   \n",
       "4             ro (reverse osmosis)                            flash   \n",
       "\n",
       "      membrane_type_(ro)                                          feedwater  \\\n",
       "0  spiral wound membrane                 seawater (tds 20000ppm - 50000ppm)   \n",
       "1  spiral wound membrane                                         wastewater   \n",
       "2  spiral wound membrane  brackish water or inland water (tds 3000ppm - ...   \n",
       "3  spiral wound membrane  brackish water or inland water (tds 3000ppm - ...   \n",
       "4  spiral wound membrane                 seawater (tds 20000ppm - 50000ppm)   \n",
       "\n",
       "                                       customer_type            industry  \\\n",
       "0                              industry (tds <10ppm)  refining/chemicals   \n",
       "1                              industry (tds <10ppm)         electronics   \n",
       "2  tourist facilities as drinking water (tds 10pp...               power   \n",
       "3  tourist facilities as drinking water (tds 10pp...               power   \n",
       "4                              industry (tds <10ppm)               power   \n",
       "\n",
       "    plant_type procurement_model    ro_system ro_feed_pump_drive  \\\n",
       "0  stand-alone               epc  single pass     electric motor   \n",
       "1  stand-alone               epc  single pass     electric motor   \n",
       "2  stand-alone               epc  single pass     electric motor   \n",
       "3  stand-alone               epc  single pass     electric motor   \n",
       "4  stand-alone               epc  single pass     electric motor   \n",
       "\n",
       "        ro_membrane_type continent  \n",
       "0  spiral wound membrane        AS  \n",
       "1  spiral wound membrane        AS  \n",
       "2  spiral wound membrane        EU  \n",
       "3  spiral wound membrane        AS  \n",
       "4  spiral wound membrane        SA  "
      ]
     },
     "execution_count": 49,
     "metadata": {},
     "output_type": "execute_result"
    }
   ],
   "source": [
    "cat_train_10.head()"
   ]
  },
  {
   "cell_type": "code",
   "execution_count": 50,
   "id": "992d3fe0",
   "metadata": {},
   "outputs": [],
   "source": [
    "from sklearn.preprocessing import OneHotEncoder\n",
    "\n",
    "encoder = OneHotEncoder(drop='first',handle_unknown='ignore',sparse=False)\n",
    "\n",
    "#encode categorical data\n",
    "cat_encoded = encoder.fit_transform(cat_train_10)\n",
    "cat_encoded_df = pd.DataFrame(cat_encoded,columns=encoder.get_feature_names_out())"
   ]
  },
  {
   "cell_type": "code",
   "execution_count": 51,
   "id": "badf9e95",
   "metadata": {},
   "outputs": [
    {
     "data": {
      "text/html": [
       "<div>\n",
       "<style scoped>\n",
       "    .dataframe tbody tr th:only-of-type {\n",
       "        vertical-align: middle;\n",
       "    }\n",
       "\n",
       "    .dataframe tbody tr th {\n",
       "        vertical-align: top;\n",
       "    }\n",
       "\n",
       "    .dataframe thead th {\n",
       "        text-align: right;\n",
       "    }\n",
       "</style>\n",
       "<table border=\"1\" class=\"dataframe\">\n",
       "  <thead>\n",
       "    <tr style=\"text-align: right;\">\n",
       "      <th></th>\n",
       "      <th>capacity_(m3/d)</th>\n",
       "      <th>units</th>\n",
       "      <th>unit_size_(m3/d)</th>\n",
       "      <th>plant_supplier_share</th>\n",
       "      <th>product_water_salinity</th>\n",
       "      <th>region_asia_pacific</th>\n",
       "      <th>region_emea</th>\n",
       "      <th>subregion_eastern_europe_/_central_asia</th>\n",
       "      <th>subregion_latin_america_/_caribbean</th>\n",
       "      <th>subregion_middle_east_/_north_africa</th>\n",
       "      <th>subregion_north_america</th>\n",
       "      <th>subregion_southern_asia</th>\n",
       "      <th>subregion_sub-saharan_africa</th>\n",
       "      <th>subregion_western_europe</th>\n",
       "      <th>location_type_mobile</th>\n",
       "      <th>location_type_offshore</th>\n",
       "      <th>size_m</th>\n",
       "      <th>size_s</th>\n",
       "      <th>size_xl</th>\n",
       "      <th>technology_edi_(electrodeionization)</th>\n",
       "      <th>technology_edr_(electrodialysis_reversal)</th>\n",
       "      <th>technology_fo_(forward_osmosis)</th>\n",
       "      <th>technology_med_(multi-effect_distillation)</th>\n",
       "      <th>technology_msf_(multi-stage_flash)</th>\n",
       "      <th>technology_nf_(nanofiltration)</th>\n",
       "      <th>technology_nf_/_sulfate_removal</th>\n",
       "      <th>technology_ro_(reverse_osmosis)</th>\n",
       "      <th>technology_vc_(vapour_compression)</th>\n",
       "      <th>thermal_design_med_(pure)</th>\n",
       "      <th>thermal_design_mvc_(mechanical_vapour_compression)</th>\n",
       "      <th>thermal_design_tvc_(thermal_vapor_compression)</th>\n",
       "      <th>membrane_type_(ro)_flat_membrane_(fm)</th>\n",
       "      <th>membrane_type_(ro)_hollow_fibre_membrane</th>\n",
       "      <th>membrane_type_(ro)_spiral_wound_membrane</th>\n",
       "      <th>membrane_type_(ro)_tube_membrane</th>\n",
       "      <th>feedwater_brine_or_concentrated_seawater_(tds_&gt;50000ppm)</th>\n",
       "      <th>feedwater_pure_water_or_tap_water_(tds__500ppm)</th>\n",
       "      <th>feedwater_river_water_or_low_concentrated_saline_water_(tds_500ppm_-__3000ppm)</th>\n",
       "      <th>feedwater_seawater_(tds_20000ppm_-_50000ppm)</th>\n",
       "      <th>feedwater_wastewater</th>\n",
       "      <th>customer_type_discharge</th>\n",
       "      <th>customer_type_industry_(tds__10ppm)</th>\n",
       "      <th>customer_type_irrigation_(tds__1000ppm)</th>\n",
       "      <th>customer_type_military_purposes_(tds_10ppm-__1000ppm)</th>\n",
       "      <th>customer_type_municipalities_as_drinking_water_(tds_10ppm_-__1000ppm)</th>\n",
       "      <th>customer_type_tourist_facilities_as_drinking_water_(tds_10ppm_-__1000ppm)</th>\n",
       "      <th>industry_food_&amp;_beverage</th>\n",
       "      <th>industry_general</th>\n",
       "      <th>industry_metals</th>\n",
       "      <th>industry_mining</th>\n",
       "      <th>industry_oil_&amp;_gas</th>\n",
       "      <th>industry_power</th>\n",
       "      <th>industry_pulp_&amp;_paper</th>\n",
       "      <th>industry_refining/chemicals</th>\n",
       "      <th>industry_textiles</th>\n",
       "      <th>plant_type_stand-alone</th>\n",
       "      <th>procurement_model_boot</th>\n",
       "      <th>procurement_model_bot</th>\n",
       "      <th>procurement_model_db</th>\n",
       "      <th>procurement_model_dbo</th>\n",
       "      <th>procurement_model_dboot</th>\n",
       "      <th>procurement_model_epc</th>\n",
       "      <th>procurement_model_iwp</th>\n",
       "      <th>procurement_model_iwpp</th>\n",
       "      <th>ro_system_triple_pass</th>\n",
       "      <th>ro_system_two_pass</th>\n",
       "      <th>ro_feed_pump_drive_steam_turbine</th>\n",
       "      <th>ro_membrane_type_flat_membrane_(fm)</th>\n",
       "      <th>ro_membrane_type_hollow_fibre_membrane</th>\n",
       "      <th>ro_membrane_type_spiral_wound_membrane</th>\n",
       "      <th>ro_membrane_type_tube_membrane</th>\n",
       "      <th>continent_AS</th>\n",
       "      <th>continent_Antarctica</th>\n",
       "      <th>continent_EU</th>\n",
       "      <th>continent_NA</th>\n",
       "      <th>continent_OC</th>\n",
       "      <th>continent_SA</th>\n",
       "    </tr>\n",
       "  </thead>\n",
       "  <tbody>\n",
       "    <tr>\n",
       "      <th>0</th>\n",
       "      <td>0.044338</td>\n",
       "      <td>0.115968</td>\n",
       "      <td>0.172608</td>\n",
       "      <td>0.159603</td>\n",
       "      <td>-0.06586</td>\n",
       "      <td>0.0</td>\n",
       "      <td>1.0</td>\n",
       "      <td>0.0</td>\n",
       "      <td>0.0</td>\n",
       "      <td>1.0</td>\n",
       "      <td>0.0</td>\n",
       "      <td>0.0</td>\n",
       "      <td>0.0</td>\n",
       "      <td>0.0</td>\n",
       "      <td>0.0</td>\n",
       "      <td>0.0</td>\n",
       "      <td>1.0</td>\n",
       "      <td>0.0</td>\n",
       "      <td>0.0</td>\n",
       "      <td>0.0</td>\n",
       "      <td>0.0</td>\n",
       "      <td>0.0</td>\n",
       "      <td>1.0</td>\n",
       "      <td>0.0</td>\n",
       "      <td>0.0</td>\n",
       "      <td>0.0</td>\n",
       "      <td>0.0</td>\n",
       "      <td>0.0</td>\n",
       "      <td>0.0</td>\n",
       "      <td>0.0</td>\n",
       "      <td>1.0</td>\n",
       "      <td>0.0</td>\n",
       "      <td>0.0</td>\n",
       "      <td>1.0</td>\n",
       "      <td>0.0</td>\n",
       "      <td>0.0</td>\n",
       "      <td>0.0</td>\n",
       "      <td>0.0</td>\n",
       "      <td>1.0</td>\n",
       "      <td>0.0</td>\n",
       "      <td>0.0</td>\n",
       "      <td>1.0</td>\n",
       "      <td>0.0</td>\n",
       "      <td>0.0</td>\n",
       "      <td>0.0</td>\n",
       "      <td>0.0</td>\n",
       "      <td>0.0</td>\n",
       "      <td>0.0</td>\n",
       "      <td>0.0</td>\n",
       "      <td>0.0</td>\n",
       "      <td>0.0</td>\n",
       "      <td>0.0</td>\n",
       "      <td>0.0</td>\n",
       "      <td>1.0</td>\n",
       "      <td>0.0</td>\n",
       "      <td>1.0</td>\n",
       "      <td>0.0</td>\n",
       "      <td>0.0</td>\n",
       "      <td>0.0</td>\n",
       "      <td>0.0</td>\n",
       "      <td>0.0</td>\n",
       "      <td>1.0</td>\n",
       "      <td>0.0</td>\n",
       "      <td>0.0</td>\n",
       "      <td>0.0</td>\n",
       "      <td>0.0</td>\n",
       "      <td>0.0</td>\n",
       "      <td>0.0</td>\n",
       "      <td>0.0</td>\n",
       "      <td>1.0</td>\n",
       "      <td>0.0</td>\n",
       "      <td>1.0</td>\n",
       "      <td>0.0</td>\n",
       "      <td>0.0</td>\n",
       "      <td>0.0</td>\n",
       "      <td>0.0</td>\n",
       "      <td>0.0</td>\n",
       "    </tr>\n",
       "    <tr>\n",
       "      <th>1</th>\n",
       "      <td>-0.164387</td>\n",
       "      <td>-0.088518</td>\n",
       "      <td>-0.254166</td>\n",
       "      <td>0.159603</td>\n",
       "      <td>-0.06586</td>\n",
       "      <td>1.0</td>\n",
       "      <td>0.0</td>\n",
       "      <td>0.0</td>\n",
       "      <td>0.0</td>\n",
       "      <td>0.0</td>\n",
       "      <td>0.0</td>\n",
       "      <td>0.0</td>\n",
       "      <td>0.0</td>\n",
       "      <td>0.0</td>\n",
       "      <td>0.0</td>\n",
       "      <td>0.0</td>\n",
       "      <td>0.0</td>\n",
       "      <td>1.0</td>\n",
       "      <td>0.0</td>\n",
       "      <td>0.0</td>\n",
       "      <td>0.0</td>\n",
       "      <td>0.0</td>\n",
       "      <td>0.0</td>\n",
       "      <td>0.0</td>\n",
       "      <td>0.0</td>\n",
       "      <td>0.0</td>\n",
       "      <td>1.0</td>\n",
       "      <td>0.0</td>\n",
       "      <td>0.0</td>\n",
       "      <td>0.0</td>\n",
       "      <td>0.0</td>\n",
       "      <td>0.0</td>\n",
       "      <td>0.0</td>\n",
       "      <td>1.0</td>\n",
       "      <td>0.0</td>\n",
       "      <td>0.0</td>\n",
       "      <td>0.0</td>\n",
       "      <td>0.0</td>\n",
       "      <td>0.0</td>\n",
       "      <td>1.0</td>\n",
       "      <td>0.0</td>\n",
       "      <td>1.0</td>\n",
       "      <td>0.0</td>\n",
       "      <td>0.0</td>\n",
       "      <td>0.0</td>\n",
       "      <td>0.0</td>\n",
       "      <td>0.0</td>\n",
       "      <td>0.0</td>\n",
       "      <td>0.0</td>\n",
       "      <td>0.0</td>\n",
       "      <td>0.0</td>\n",
       "      <td>0.0</td>\n",
       "      <td>0.0</td>\n",
       "      <td>0.0</td>\n",
       "      <td>0.0</td>\n",
       "      <td>1.0</td>\n",
       "      <td>0.0</td>\n",
       "      <td>0.0</td>\n",
       "      <td>0.0</td>\n",
       "      <td>0.0</td>\n",
       "      <td>0.0</td>\n",
       "      <td>1.0</td>\n",
       "      <td>0.0</td>\n",
       "      <td>0.0</td>\n",
       "      <td>0.0</td>\n",
       "      <td>0.0</td>\n",
       "      <td>0.0</td>\n",
       "      <td>0.0</td>\n",
       "      <td>0.0</td>\n",
       "      <td>1.0</td>\n",
       "      <td>0.0</td>\n",
       "      <td>1.0</td>\n",
       "      <td>0.0</td>\n",
       "      <td>0.0</td>\n",
       "      <td>0.0</td>\n",
       "      <td>0.0</td>\n",
       "      <td>0.0</td>\n",
       "    </tr>\n",
       "    <tr>\n",
       "      <th>2</th>\n",
       "      <td>-0.165594</td>\n",
       "      <td>-0.088518</td>\n",
       "      <td>-0.262218</td>\n",
       "      <td>0.159603</td>\n",
       "      <td>-0.06586</td>\n",
       "      <td>0.0</td>\n",
       "      <td>1.0</td>\n",
       "      <td>0.0</td>\n",
       "      <td>0.0</td>\n",
       "      <td>0.0</td>\n",
       "      <td>0.0</td>\n",
       "      <td>0.0</td>\n",
       "      <td>0.0</td>\n",
       "      <td>1.0</td>\n",
       "      <td>0.0</td>\n",
       "      <td>0.0</td>\n",
       "      <td>0.0</td>\n",
       "      <td>1.0</td>\n",
       "      <td>0.0</td>\n",
       "      <td>0.0</td>\n",
       "      <td>0.0</td>\n",
       "      <td>0.0</td>\n",
       "      <td>0.0</td>\n",
       "      <td>0.0</td>\n",
       "      <td>0.0</td>\n",
       "      <td>0.0</td>\n",
       "      <td>1.0</td>\n",
       "      <td>0.0</td>\n",
       "      <td>0.0</td>\n",
       "      <td>0.0</td>\n",
       "      <td>0.0</td>\n",
       "      <td>0.0</td>\n",
       "      <td>0.0</td>\n",
       "      <td>1.0</td>\n",
       "      <td>0.0</td>\n",
       "      <td>0.0</td>\n",
       "      <td>0.0</td>\n",
       "      <td>0.0</td>\n",
       "      <td>0.0</td>\n",
       "      <td>0.0</td>\n",
       "      <td>0.0</td>\n",
       "      <td>0.0</td>\n",
       "      <td>0.0</td>\n",
       "      <td>0.0</td>\n",
       "      <td>0.0</td>\n",
       "      <td>1.0</td>\n",
       "      <td>0.0</td>\n",
       "      <td>0.0</td>\n",
       "      <td>0.0</td>\n",
       "      <td>0.0</td>\n",
       "      <td>0.0</td>\n",
       "      <td>1.0</td>\n",
       "      <td>0.0</td>\n",
       "      <td>0.0</td>\n",
       "      <td>0.0</td>\n",
       "      <td>1.0</td>\n",
       "      <td>0.0</td>\n",
       "      <td>0.0</td>\n",
       "      <td>0.0</td>\n",
       "      <td>0.0</td>\n",
       "      <td>0.0</td>\n",
       "      <td>1.0</td>\n",
       "      <td>0.0</td>\n",
       "      <td>0.0</td>\n",
       "      <td>0.0</td>\n",
       "      <td>0.0</td>\n",
       "      <td>0.0</td>\n",
       "      <td>0.0</td>\n",
       "      <td>0.0</td>\n",
       "      <td>1.0</td>\n",
       "      <td>0.0</td>\n",
       "      <td>0.0</td>\n",
       "      <td>0.0</td>\n",
       "      <td>1.0</td>\n",
       "      <td>0.0</td>\n",
       "      <td>0.0</td>\n",
       "      <td>0.0</td>\n",
       "    </tr>\n",
       "    <tr>\n",
       "      <th>3</th>\n",
       "      <td>-0.165986</td>\n",
       "      <td>-0.088518</td>\n",
       "      <td>-0.264835</td>\n",
       "      <td>0.159603</td>\n",
       "      <td>-0.06586</td>\n",
       "      <td>0.0</td>\n",
       "      <td>1.0</td>\n",
       "      <td>0.0</td>\n",
       "      <td>0.0</td>\n",
       "      <td>1.0</td>\n",
       "      <td>0.0</td>\n",
       "      <td>0.0</td>\n",
       "      <td>0.0</td>\n",
       "      <td>0.0</td>\n",
       "      <td>0.0</td>\n",
       "      <td>0.0</td>\n",
       "      <td>0.0</td>\n",
       "      <td>1.0</td>\n",
       "      <td>0.0</td>\n",
       "      <td>0.0</td>\n",
       "      <td>0.0</td>\n",
       "      <td>0.0</td>\n",
       "      <td>0.0</td>\n",
       "      <td>0.0</td>\n",
       "      <td>0.0</td>\n",
       "      <td>0.0</td>\n",
       "      <td>1.0</td>\n",
       "      <td>0.0</td>\n",
       "      <td>0.0</td>\n",
       "      <td>0.0</td>\n",
       "      <td>0.0</td>\n",
       "      <td>0.0</td>\n",
       "      <td>0.0</td>\n",
       "      <td>1.0</td>\n",
       "      <td>0.0</td>\n",
       "      <td>0.0</td>\n",
       "      <td>0.0</td>\n",
       "      <td>0.0</td>\n",
       "      <td>0.0</td>\n",
       "      <td>0.0</td>\n",
       "      <td>0.0</td>\n",
       "      <td>0.0</td>\n",
       "      <td>0.0</td>\n",
       "      <td>0.0</td>\n",
       "      <td>0.0</td>\n",
       "      <td>1.0</td>\n",
       "      <td>0.0</td>\n",
       "      <td>0.0</td>\n",
       "      <td>0.0</td>\n",
       "      <td>0.0</td>\n",
       "      <td>0.0</td>\n",
       "      <td>1.0</td>\n",
       "      <td>0.0</td>\n",
       "      <td>0.0</td>\n",
       "      <td>0.0</td>\n",
       "      <td>1.0</td>\n",
       "      <td>0.0</td>\n",
       "      <td>0.0</td>\n",
       "      <td>0.0</td>\n",
       "      <td>0.0</td>\n",
       "      <td>0.0</td>\n",
       "      <td>1.0</td>\n",
       "      <td>0.0</td>\n",
       "      <td>0.0</td>\n",
       "      <td>0.0</td>\n",
       "      <td>0.0</td>\n",
       "      <td>0.0</td>\n",
       "      <td>0.0</td>\n",
       "      <td>0.0</td>\n",
       "      <td>1.0</td>\n",
       "      <td>0.0</td>\n",
       "      <td>1.0</td>\n",
       "      <td>0.0</td>\n",
       "      <td>0.0</td>\n",
       "      <td>0.0</td>\n",
       "      <td>0.0</td>\n",
       "      <td>0.0</td>\n",
       "    </tr>\n",
       "    <tr>\n",
       "      <th>4</th>\n",
       "      <td>-0.169816</td>\n",
       "      <td>-0.088518</td>\n",
       "      <td>-0.290401</td>\n",
       "      <td>0.159603</td>\n",
       "      <td>-0.06586</td>\n",
       "      <td>0.0</td>\n",
       "      <td>0.0</td>\n",
       "      <td>0.0</td>\n",
       "      <td>1.0</td>\n",
       "      <td>0.0</td>\n",
       "      <td>0.0</td>\n",
       "      <td>0.0</td>\n",
       "      <td>0.0</td>\n",
       "      <td>0.0</td>\n",
       "      <td>0.0</td>\n",
       "      <td>0.0</td>\n",
       "      <td>0.0</td>\n",
       "      <td>1.0</td>\n",
       "      <td>0.0</td>\n",
       "      <td>0.0</td>\n",
       "      <td>0.0</td>\n",
       "      <td>0.0</td>\n",
       "      <td>0.0</td>\n",
       "      <td>0.0</td>\n",
       "      <td>0.0</td>\n",
       "      <td>0.0</td>\n",
       "      <td>1.0</td>\n",
       "      <td>0.0</td>\n",
       "      <td>0.0</td>\n",
       "      <td>0.0</td>\n",
       "      <td>0.0</td>\n",
       "      <td>0.0</td>\n",
       "      <td>0.0</td>\n",
       "      <td>1.0</td>\n",
       "      <td>0.0</td>\n",
       "      <td>0.0</td>\n",
       "      <td>0.0</td>\n",
       "      <td>0.0</td>\n",
       "      <td>1.0</td>\n",
       "      <td>0.0</td>\n",
       "      <td>0.0</td>\n",
       "      <td>1.0</td>\n",
       "      <td>0.0</td>\n",
       "      <td>0.0</td>\n",
       "      <td>0.0</td>\n",
       "      <td>0.0</td>\n",
       "      <td>0.0</td>\n",
       "      <td>0.0</td>\n",
       "      <td>0.0</td>\n",
       "      <td>0.0</td>\n",
       "      <td>0.0</td>\n",
       "      <td>1.0</td>\n",
       "      <td>0.0</td>\n",
       "      <td>0.0</td>\n",
       "      <td>0.0</td>\n",
       "      <td>1.0</td>\n",
       "      <td>0.0</td>\n",
       "      <td>0.0</td>\n",
       "      <td>0.0</td>\n",
       "      <td>0.0</td>\n",
       "      <td>0.0</td>\n",
       "      <td>1.0</td>\n",
       "      <td>0.0</td>\n",
       "      <td>0.0</td>\n",
       "      <td>0.0</td>\n",
       "      <td>0.0</td>\n",
       "      <td>0.0</td>\n",
       "      <td>0.0</td>\n",
       "      <td>0.0</td>\n",
       "      <td>1.0</td>\n",
       "      <td>0.0</td>\n",
       "      <td>0.0</td>\n",
       "      <td>0.0</td>\n",
       "      <td>0.0</td>\n",
       "      <td>0.0</td>\n",
       "      <td>0.0</td>\n",
       "      <td>1.0</td>\n",
       "    </tr>\n",
       "  </tbody>\n",
       "</table>\n",
       "</div>"
      ],
      "text/plain": [
       "   capacity_(m3/d)     units  unit_size_(m3/d)  plant_supplier_share  \\\n",
       "0         0.044338  0.115968          0.172608              0.159603   \n",
       "1        -0.164387 -0.088518         -0.254166              0.159603   \n",
       "2        -0.165594 -0.088518         -0.262218              0.159603   \n",
       "3        -0.165986 -0.088518         -0.264835              0.159603   \n",
       "4        -0.169816 -0.088518         -0.290401              0.159603   \n",
       "\n",
       "   product_water_salinity  region_asia_pacific  region_emea  \\\n",
       "0                -0.06586                  0.0          1.0   \n",
       "1                -0.06586                  1.0          0.0   \n",
       "2                -0.06586                  0.0          1.0   \n",
       "3                -0.06586                  0.0          1.0   \n",
       "4                -0.06586                  0.0          0.0   \n",
       "\n",
       "   subregion_eastern_europe_/_central_asia  \\\n",
       "0                                      0.0   \n",
       "1                                      0.0   \n",
       "2                                      0.0   \n",
       "3                                      0.0   \n",
       "4                                      0.0   \n",
       "\n",
       "   subregion_latin_america_/_caribbean  subregion_middle_east_/_north_africa  \\\n",
       "0                                  0.0                                   1.0   \n",
       "1                                  0.0                                   0.0   \n",
       "2                                  0.0                                   0.0   \n",
       "3                                  0.0                                   1.0   \n",
       "4                                  1.0                                   0.0   \n",
       "\n",
       "   subregion_north_america  subregion_southern_asia  \\\n",
       "0                      0.0                      0.0   \n",
       "1                      0.0                      0.0   \n",
       "2                      0.0                      0.0   \n",
       "3                      0.0                      0.0   \n",
       "4                      0.0                      0.0   \n",
       "\n",
       "   subregion_sub-saharan_africa  subregion_western_europe  \\\n",
       "0                           0.0                       0.0   \n",
       "1                           0.0                       0.0   \n",
       "2                           0.0                       1.0   \n",
       "3                           0.0                       0.0   \n",
       "4                           0.0                       0.0   \n",
       "\n",
       "   location_type_mobile  location_type_offshore  size_m  size_s  size_xl  \\\n",
       "0                   0.0                     0.0     1.0     0.0      0.0   \n",
       "1                   0.0                     0.0     0.0     1.0      0.0   \n",
       "2                   0.0                     0.0     0.0     1.0      0.0   \n",
       "3                   0.0                     0.0     0.0     1.0      0.0   \n",
       "4                   0.0                     0.0     0.0     1.0      0.0   \n",
       "\n",
       "   technology_edi_(electrodeionization)  \\\n",
       "0                                   0.0   \n",
       "1                                   0.0   \n",
       "2                                   0.0   \n",
       "3                                   0.0   \n",
       "4                                   0.0   \n",
       "\n",
       "   technology_edr_(electrodialysis_reversal)  technology_fo_(forward_osmosis)  \\\n",
       "0                                        0.0                              0.0   \n",
       "1                                        0.0                              0.0   \n",
       "2                                        0.0                              0.0   \n",
       "3                                        0.0                              0.0   \n",
       "4                                        0.0                              0.0   \n",
       "\n",
       "   technology_med_(multi-effect_distillation)  \\\n",
       "0                                         1.0   \n",
       "1                                         0.0   \n",
       "2                                         0.0   \n",
       "3                                         0.0   \n",
       "4                                         0.0   \n",
       "\n",
       "   technology_msf_(multi-stage_flash)  technology_nf_(nanofiltration)  \\\n",
       "0                                 0.0                             0.0   \n",
       "1                                 0.0                             0.0   \n",
       "2                                 0.0                             0.0   \n",
       "3                                 0.0                             0.0   \n",
       "4                                 0.0                             0.0   \n",
       "\n",
       "   technology_nf_/_sulfate_removal  technology_ro_(reverse_osmosis)  \\\n",
       "0                              0.0                              0.0   \n",
       "1                              0.0                              1.0   \n",
       "2                              0.0                              1.0   \n",
       "3                              0.0                              1.0   \n",
       "4                              0.0                              1.0   \n",
       "\n",
       "   technology_vc_(vapour_compression)  thermal_design_med_(pure)  \\\n",
       "0                                 0.0                        0.0   \n",
       "1                                 0.0                        0.0   \n",
       "2                                 0.0                        0.0   \n",
       "3                                 0.0                        0.0   \n",
       "4                                 0.0                        0.0   \n",
       "\n",
       "   thermal_design_mvc_(mechanical_vapour_compression)  \\\n",
       "0                                                0.0    \n",
       "1                                                0.0    \n",
       "2                                                0.0    \n",
       "3                                                0.0    \n",
       "4                                                0.0    \n",
       "\n",
       "   thermal_design_tvc_(thermal_vapor_compression)  \\\n",
       "0                                             1.0   \n",
       "1                                             0.0   \n",
       "2                                             0.0   \n",
       "3                                             0.0   \n",
       "4                                             0.0   \n",
       "\n",
       "   membrane_type_(ro)_flat_membrane_(fm)  \\\n",
       "0                                    0.0   \n",
       "1                                    0.0   \n",
       "2                                    0.0   \n",
       "3                                    0.0   \n",
       "4                                    0.0   \n",
       "\n",
       "   membrane_type_(ro)_hollow_fibre_membrane  \\\n",
       "0                                       0.0   \n",
       "1                                       0.0   \n",
       "2                                       0.0   \n",
       "3                                       0.0   \n",
       "4                                       0.0   \n",
       "\n",
       "   membrane_type_(ro)_spiral_wound_membrane  membrane_type_(ro)_tube_membrane  \\\n",
       "0                                       1.0                               0.0   \n",
       "1                                       1.0                               0.0   \n",
       "2                                       1.0                               0.0   \n",
       "3                                       1.0                               0.0   \n",
       "4                                       1.0                               0.0   \n",
       "\n",
       "   feedwater_brine_or_concentrated_seawater_(tds_>50000ppm)  \\\n",
       "0                                                0.0          \n",
       "1                                                0.0          \n",
       "2                                                0.0          \n",
       "3                                                0.0          \n",
       "4                                                0.0          \n",
       "\n",
       "   feedwater_pure_water_or_tap_water_(tds__500ppm)  \\\n",
       "0                                              0.0   \n",
       "1                                              0.0   \n",
       "2                                              0.0   \n",
       "3                                              0.0   \n",
       "4                                              0.0   \n",
       "\n",
       "   feedwater_river_water_or_low_concentrated_saline_water_(tds_500ppm_-__3000ppm)  \\\n",
       "0                                                0.0                                \n",
       "1                                                0.0                                \n",
       "2                                                0.0                                \n",
       "3                                                0.0                                \n",
       "4                                                0.0                                \n",
       "\n",
       "   feedwater_seawater_(tds_20000ppm_-_50000ppm)  feedwater_wastewater  \\\n",
       "0                                           1.0                   0.0   \n",
       "1                                           0.0                   1.0   \n",
       "2                                           0.0                   0.0   \n",
       "3                                           0.0                   0.0   \n",
       "4                                           1.0                   0.0   \n",
       "\n",
       "   customer_type_discharge  customer_type_industry_(tds__10ppm)  \\\n",
       "0                      0.0                                  1.0   \n",
       "1                      0.0                                  1.0   \n",
       "2                      0.0                                  0.0   \n",
       "3                      0.0                                  0.0   \n",
       "4                      0.0                                  1.0   \n",
       "\n",
       "   customer_type_irrigation_(tds__1000ppm)  \\\n",
       "0                                      0.0   \n",
       "1                                      0.0   \n",
       "2                                      0.0   \n",
       "3                                      0.0   \n",
       "4                                      0.0   \n",
       "\n",
       "   customer_type_military_purposes_(tds_10ppm-__1000ppm)  \\\n",
       "0                                                0.0       \n",
       "1                                                0.0       \n",
       "2                                                0.0       \n",
       "3                                                0.0       \n",
       "4                                                0.0       \n",
       "\n",
       "   customer_type_municipalities_as_drinking_water_(tds_10ppm_-__1000ppm)  \\\n",
       "0                                                0.0                       \n",
       "1                                                0.0                       \n",
       "2                                                0.0                       \n",
       "3                                                0.0                       \n",
       "4                                                0.0                       \n",
       "\n",
       "   customer_type_tourist_facilities_as_drinking_water_(tds_10ppm_-__1000ppm)  \\\n",
       "0                                                0.0                           \n",
       "1                                                0.0                           \n",
       "2                                                1.0                           \n",
       "3                                                1.0                           \n",
       "4                                                0.0                           \n",
       "\n",
       "   industry_food_&_beverage  industry_general  industry_metals  \\\n",
       "0                       0.0               0.0              0.0   \n",
       "1                       0.0               0.0              0.0   \n",
       "2                       0.0               0.0              0.0   \n",
       "3                       0.0               0.0              0.0   \n",
       "4                       0.0               0.0              0.0   \n",
       "\n",
       "   industry_mining  industry_oil_&_gas  industry_power  industry_pulp_&_paper  \\\n",
       "0              0.0                 0.0             0.0                    0.0   \n",
       "1              0.0                 0.0             0.0                    0.0   \n",
       "2              0.0                 0.0             1.0                    0.0   \n",
       "3              0.0                 0.0             1.0                    0.0   \n",
       "4              0.0                 0.0             1.0                    0.0   \n",
       "\n",
       "   industry_refining/chemicals  industry_textiles  plant_type_stand-alone  \\\n",
       "0                          1.0                0.0                     1.0   \n",
       "1                          0.0                0.0                     1.0   \n",
       "2                          0.0                0.0                     1.0   \n",
       "3                          0.0                0.0                     1.0   \n",
       "4                          0.0                0.0                     1.0   \n",
       "\n",
       "   procurement_model_boot  procurement_model_bot  procurement_model_db  \\\n",
       "0                     0.0                    0.0                   0.0   \n",
       "1                     0.0                    0.0                   0.0   \n",
       "2                     0.0                    0.0                   0.0   \n",
       "3                     0.0                    0.0                   0.0   \n",
       "4                     0.0                    0.0                   0.0   \n",
       "\n",
       "   procurement_model_dbo  procurement_model_dboot  procurement_model_epc  \\\n",
       "0                    0.0                      0.0                    1.0   \n",
       "1                    0.0                      0.0                    1.0   \n",
       "2                    0.0                      0.0                    1.0   \n",
       "3                    0.0                      0.0                    1.0   \n",
       "4                    0.0                      0.0                    1.0   \n",
       "\n",
       "   procurement_model_iwp  procurement_model_iwpp  ro_system_triple_pass  \\\n",
       "0                    0.0                     0.0                    0.0   \n",
       "1                    0.0                     0.0                    0.0   \n",
       "2                    0.0                     0.0                    0.0   \n",
       "3                    0.0                     0.0                    0.0   \n",
       "4                    0.0                     0.0                    0.0   \n",
       "\n",
       "   ro_system_two_pass  ro_feed_pump_drive_steam_turbine  \\\n",
       "0                 0.0                               0.0   \n",
       "1                 0.0                               0.0   \n",
       "2                 0.0                               0.0   \n",
       "3                 0.0                               0.0   \n",
       "4                 0.0                               0.0   \n",
       "\n",
       "   ro_membrane_type_flat_membrane_(fm)  \\\n",
       "0                                  0.0   \n",
       "1                                  0.0   \n",
       "2                                  0.0   \n",
       "3                                  0.0   \n",
       "4                                  0.0   \n",
       "\n",
       "   ro_membrane_type_hollow_fibre_membrane  \\\n",
       "0                                     0.0   \n",
       "1                                     0.0   \n",
       "2                                     0.0   \n",
       "3                                     0.0   \n",
       "4                                     0.0   \n",
       "\n",
       "   ro_membrane_type_spiral_wound_membrane  ro_membrane_type_tube_membrane  \\\n",
       "0                                     1.0                             0.0   \n",
       "1                                     1.0                             0.0   \n",
       "2                                     1.0                             0.0   \n",
       "3                                     1.0                             0.0   \n",
       "4                                     1.0                             0.0   \n",
       "\n",
       "   continent_AS  continent_Antarctica  continent_EU  continent_NA  \\\n",
       "0           1.0                   0.0           0.0           0.0   \n",
       "1           1.0                   0.0           0.0           0.0   \n",
       "2           0.0                   0.0           1.0           0.0   \n",
       "3           1.0                   0.0           0.0           0.0   \n",
       "4           0.0                   0.0           0.0           0.0   \n",
       "\n",
       "   continent_OC  continent_SA  \n",
       "0           0.0           0.0  \n",
       "1           0.0           0.0  \n",
       "2           0.0           0.0  \n",
       "3           0.0           0.0  \n",
       "4           0.0           1.0  "
      ]
     },
     "execution_count": 51,
     "metadata": {},
     "output_type": "execute_result"
    }
   ],
   "source": [
    "#concatenate numerical and categorical data\n",
    "X_train_preprocessed = pd.concat([num_scaled_df,cat_encoded_df],axis=1)\n",
    "X_train_preprocessed.columns = X_train_preprocessed.columns.str.replace(' ','_').str.replace(',','_').str.replace('[','_').str.replace(']','_').str.replace('<','_') \n",
    "X_train_preprocessed.head()"
   ]
  },
  {
   "cell_type": "code",
   "execution_count": 52,
   "id": "d8689d43",
   "metadata": {},
   "outputs": [],
   "source": [
    "def preprocess_1(df,num_imputer,cat_imputer,scaler,encoder):\n",
    "    #seperate numerical columns from categorical ones\n",
    "    num_df = df.select_dtypes(exclude='O')\n",
    "    cat_df = df.select_dtypes(include='O')\n",
    "    \n",
    "    #fill missing values\n",
    "    num_df = pd.DataFrame(num_imputer.transform(num_df),columns = num_df.columns)\n",
    "    cat_df = pd.DataFrame(cat_imputer.transform(cat_df),columns = cat_df.columns)[not_more_than_10]\n",
    "    \n",
    "    #scale numerical data\n",
    "    num_scaled = scaler.transform(num_df)\n",
    "    num_scaled_df = pd.DataFrame(num_scaled,columns=num_df.columns)\n",
    "    \n",
    "    #encode categorical data\n",
    "    cat_encoded = encoder.transform(cat_df)\n",
    "    cat_encoded_df = pd.DataFrame(cat_encoded,columns=encoder.get_feature_names_out())\n",
    "    \n",
    "    #concatenate numerical and categorical data\n",
    "    df_preprocessed = pd.concat([num_scaled_df,cat_encoded_df],axis=1)\n",
    "    df_preprocessed.columns = df_preprocessed.columns.str.replace(' ','_').str.replace(',','_').str.replace('[','_').str.replace(']','_').str.replace('<','_') \n",
    "    return df_preprocessed"
   ]
  },
  {
   "cell_type": "code",
   "execution_count": 53,
   "id": "4400fc79",
   "metadata": {},
   "outputs": [],
   "source": [
    "#preprocess val and test sets\n",
    "X_val_preprocessed = preprocess_1(X_val,num_imputer,cat_imputer,scaler,encoder)\n",
    "X_test_preprocessed = preprocess_1(X_test,num_imputer,cat_imputer,scaler,encoder)"
   ]
  },
  {
   "cell_type": "markdown",
   "id": "ecbc1fd2",
   "metadata": {},
   "source": [
    "# Baseline Model"
   ]
  },
  {
   "cell_type": "markdown",
   "id": "9b0b23d6",
   "metadata": {},
   "source": [
    "We need to establish a baseline score for our model(s) to beat. If we were not using machine learning, we'd probably do some sort of aggregation over the data we have. For example, we might choose to aggregate over the size of plant."
   ]
  },
  {
   "cell_type": "code",
   "execution_count": 54,
   "id": "42bb5521",
   "metadata": {},
   "outputs": [],
   "source": [
    "#aggregate over train data\n",
    "agg_prices = df.loc[X_train.index].groupby('size')['epc_price(usd)'].mean().to_dict()"
   ]
  },
  {
   "cell_type": "code",
   "execution_count": 55,
   "id": "7ae1f890",
   "metadata": {},
   "outputs": [
    {
     "data": {
      "text/plain": [
       "8930263.259175224"
      ]
     },
     "execution_count": 55,
     "metadata": {},
     "output_type": "execute_result"
    }
   ],
   "source": [
    "from sklearn.metrics import mean_absolute_error as mae\n",
    "preds = X_val['size'].map(agg_prices)\n",
    "mae(y_val,preds)"
   ]
  },
  {
   "cell_type": "markdown",
   "id": "83422106",
   "metadata": {},
   "source": [
    "We have to build a model that beats this score (lesser is better)"
   ]
  },
  {
   "cell_type": "markdown",
   "id": "42eb068a",
   "metadata": {},
   "source": [
    "# Model Building"
   ]
  },
  {
   "cell_type": "code",
   "execution_count": 56,
   "id": "a31444d8",
   "metadata": {},
   "outputs": [],
   "source": [
    "# import some models\n",
    "from sklearn.linear_model import LinearRegression, Lasso\n",
    "from sklearn.tree import DecisionTreeRegressor\n",
    "from sklearn.ensemble import RandomForestRegressor, ExtraTreesRegressor, GradientBoostingRegressor, AdaBoostRegressor\n",
    "from xgboost import XGBRegressor\n",
    "from lightgbm import LGBMRegressor\n",
    "from catboost import CatBoostRegressor\n",
    "\n",
    "# import the evaluation function\n",
    "from sklearn.metrics import mean_absolute_error as mae, mean_squared_error as mse"
   ]
  },
  {
   "cell_type": "code",
   "execution_count": 57,
   "id": "454b7800",
   "metadata": {},
   "outputs": [],
   "source": [
    "# create a list of models\n",
    "models = [LinearRegression(),\n",
    "          Lasso(),\n",
    "          DecisionTreeRegressor(random_state=42),\n",
    "          RandomForestRegressor(random_state=42),\n",
    "          ExtraTreesRegressor(random_state=42),\n",
    "          GradientBoostingRegressor(random_state=42),\n",
    "          AdaBoostRegressor(random_state=42),\n",
    "          XGBRegressor(random_state=42),\n",
    "          LGBMRegressor(random_state=42),\n",
    "          CatBoostRegressor(random_state=42,verbose=0)\n",
    "         ]"
   ]
  },
  {
   "cell_type": "code",
   "execution_count": 58,
   "id": "43088756",
   "metadata": {},
   "outputs": [
    {
     "name": "stdout",
     "output_type": "stream",
     "text": [
      "LinearRegression: 0.5578014603652204\n",
      "Lasso: 1.27207409712698\n",
      "DecisionTreeRegressor: 0.1726732397309619\n",
      "RandomForestRegressor: 0.14911092738793724\n",
      "ExtraTreesRegressor: 0.15442097179842035\n",
      "GradientBoostingRegressor: 0.15770687907412476\n",
      "AdaBoostRegressor: 0.42129873731857703\n",
      "XGBRegressor: 0.15830907110482062\n",
      "LGBMRegressor: 0.14829112920306595\n",
      "CatBoostRegressor: 0.15348416188426542\n"
     ]
    }
   ],
   "source": [
    "for model in models:\n",
    "    model.fit(X_train_preprocessed,y_train)\n",
    "    val_predictions = model.predict(X_val_preprocessed)\n",
    "    print(f'{model.__class__.__name__}: {mae(y_val,val_predictions)}') "
   ]
  },
  {
   "cell_type": "markdown",
   "id": "bf25aa86",
   "metadata": {},
   "source": [
    "**LGBMRegressor** appears to perform best but this is only a speculation as we have only tested the models on one fold. We can also see that the tree-based and boosting algorithms give similar results.\n",
    "\n",
    "Assuming **LGBMRegressor** is our best performing model, let's see how its performance compares to the baseline score"
   ]
  },
  {
   "cell_type": "code",
   "execution_count": 59,
   "id": "8317a134",
   "metadata": {},
   "outputs": [
    {
     "data": {
      "text/plain": [
       "4646174.382637453"
      ]
     },
     "execution_count": 59,
     "metadata": {},
     "output_type": "execute_result"
    }
   ],
   "source": [
    "#evaluate mae on validation set\n",
    "val_preds = np.expm1(models[-2].predict(X_val_preprocessed))\n",
    "y_true = np.expm1(y_val)\n",
    "mae(y_true,val_preds)"
   ]
  },
  {
   "cell_type": "markdown",
   "id": "c5a5a243",
   "metadata": {},
   "source": [
    "This machine learning model reduces the error rate of the baseline predictions by almost **50 percent**."
   ]
  },
  {
   "cell_type": "markdown",
   "id": "ebd57bb7",
   "metadata": {},
   "source": [
    "We can pass all the categorical variables into **CatBoostRegressor**. The algorithm handles the encoding steps"
   ]
  },
  {
   "cell_type": "code",
   "execution_count": 60,
   "id": "849168dd",
   "metadata": {},
   "outputs": [],
   "source": [
    "def preprocess_2(df,num_imputer,cat_imputer,scaler):\n",
    "    #seperate numerical columns from categorical ones\n",
    "    num_df = df.select_dtypes(exclude='O')\n",
    "    cat_df = df.select_dtypes(include='O')\n",
    "    \n",
    "    #fill missing values\n",
    "    num_df = pd.DataFrame(num_imputer.transform(num_df),columns = num_df.columns)\n",
    "    cat_df = pd.DataFrame(cat_imputer.transform(cat_df),columns = cat_df.columns)\n",
    "    \n",
    "    #scale numerical data\n",
    "    num_scaled = scaler.transform(num_df)\n",
    "    num_scaled_df = pd.DataFrame(num_scaled,columns=num_df.columns)\n",
    "    \n",
    "    #concatenate scaled numerical features and imputed categorical features\n",
    "    return pd.concat([num_scaled_df,cat_df],axis=1)"
   ]
  },
  {
   "cell_type": "code",
   "execution_count": 61,
   "id": "5272913f",
   "metadata": {},
   "outputs": [],
   "source": [
    "X_train_preprocessed = preprocess_2(X_train,num_imputer,cat_imputer,scaler)\n",
    "X_val_preprocessed = preprocess_2(X_val,num_imputer,cat_imputer,scaler)\n",
    "X_test_preprocessed = preprocess_2(X_test,num_imputer,cat_imputer,scaler)"
   ]
  },
  {
   "cell_type": "code",
   "execution_count": 62,
   "id": "39ddc74e",
   "metadata": {
    "scrolled": false
   },
   "outputs": [
    {
     "data": {
      "text/html": [
       "<div>\n",
       "<style scoped>\n",
       "    .dataframe tbody tr th:only-of-type {\n",
       "        vertical-align: middle;\n",
       "    }\n",
       "\n",
       "    .dataframe tbody tr th {\n",
       "        vertical-align: top;\n",
       "    }\n",
       "\n",
       "    .dataframe thead th {\n",
       "        text-align: right;\n",
       "    }\n",
       "</style>\n",
       "<table border=\"1\" class=\"dataframe\">\n",
       "  <thead>\n",
       "    <tr style=\"text-align: right;\">\n",
       "      <th></th>\n",
       "      <th>capacity_(m3/d)</th>\n",
       "      <th>units</th>\n",
       "      <th>unit_size_(m3/d)</th>\n",
       "      <th>plant_supplier_share</th>\n",
       "      <th>product_water_salinity</th>\n",
       "      <th>country</th>\n",
       "      <th>region</th>\n",
       "      <th>subregion</th>\n",
       "      <th>location</th>\n",
       "      <th>state/region</th>\n",
       "      <th>location_type</th>\n",
       "      <th>size</th>\n",
       "      <th>technology</th>\n",
       "      <th>thermal_design</th>\n",
       "      <th>membrane_type_(ro)</th>\n",
       "      <th>feedwater</th>\n",
       "      <th>customer_type</th>\n",
       "      <th>industry</th>\n",
       "      <th>customer</th>\n",
       "      <th>plant_type</th>\n",
       "      <th>plant_supplier</th>\n",
       "      <th>procurement_model</th>\n",
       "      <th>epc_contractor_(desal)</th>\n",
       "      <th>equipment_supplier_:_membranes_(not_specified_/_other)</th>\n",
       "      <th>holding_company</th>\n",
       "      <th>plant_owner</th>\n",
       "      <th>bid_submitted</th>\n",
       "      <th>ro_system</th>\n",
       "      <th>ro_feed_pump_drive</th>\n",
       "      <th>ro_membrane_type</th>\n",
       "      <th>continent</th>\n",
       "    </tr>\n",
       "  </thead>\n",
       "  <tbody>\n",
       "    <tr>\n",
       "      <th>0</th>\n",
       "      <td>0.044338</td>\n",
       "      <td>0.115968</td>\n",
       "      <td>0.172608</td>\n",
       "      <td>0.159603</td>\n",
       "      <td>-0.06586</td>\n",
       "      <td>Oman</td>\n",
       "      <td>emea</td>\n",
       "      <td>middle east / north africa</td>\n",
       "      <td>qalhat</td>\n",
       "      <td>california</td>\n",
       "      <td>land based</td>\n",
       "      <td>m</td>\n",
       "      <td>med (multi-effect distillation)</td>\n",
       "      <td>tvc (thermal vapor compression)</td>\n",
       "      <td>spiral wound membrane</td>\n",
       "      <td>seawater (tds 20000ppm - 50000ppm)</td>\n",
       "      <td>industry (tds &lt;10ppm)</td>\n",
       "      <td>refining/chemicals</td>\n",
       "      <td>omifci</td>\n",
       "      <td>stand-alone</td>\n",
       "      <td>entropie s.a.s.</td>\n",
       "      <td>epc</td>\n",
       "      <td>entropie s.a.s.</td>\n",
       "      <td>dupont (now dupont water solutions)</td>\n",
       "      <td>veolia</td>\n",
       "      <td>omifci</td>\n",
       "      <td>veolia</td>\n",
       "      <td>single pass</td>\n",
       "      <td>electric motor</td>\n",
       "      <td>spiral wound membrane</td>\n",
       "      <td>AS</td>\n",
       "    </tr>\n",
       "    <tr>\n",
       "      <th>1</th>\n",
       "      <td>-0.164387</td>\n",
       "      <td>-0.088518</td>\n",
       "      <td>-0.254166</td>\n",
       "      <td>0.159603</td>\n",
       "      <td>-0.06586</td>\n",
       "      <td>Japan</td>\n",
       "      <td>asia pacific</td>\n",
       "      <td>east asia / pacific</td>\n",
       "      <td>hyogo</td>\n",
       "      <td>california</td>\n",
       "      <td>land based</td>\n",
       "      <td>s</td>\n",
       "      <td>ro (reverse osmosis)</td>\n",
       "      <td>flash</td>\n",
       "      <td>spiral wound membrane</td>\n",
       "      <td>wastewater</td>\n",
       "      <td>industry (tds &lt;10ppm)</td>\n",
       "      <td>electronics</td>\n",
       "      <td>sanyo</td>\n",
       "      <td>stand-alone</td>\n",
       "      <td>unitika ltd.</td>\n",
       "      <td>epc</td>\n",
       "      <td>unitika ltd.</td>\n",
       "      <td>dupont (now dupont water solutions)</td>\n",
       "      <td>unitika ltd.</td>\n",
       "      <td>sanyo</td>\n",
       "      <td>ionics, inc.</td>\n",
       "      <td>single pass</td>\n",
       "      <td>electric motor</td>\n",
       "      <td>spiral wound membrane</td>\n",
       "      <td>AS</td>\n",
       "    </tr>\n",
       "    <tr>\n",
       "      <th>2</th>\n",
       "      <td>-0.165594</td>\n",
       "      <td>-0.088518</td>\n",
       "      <td>-0.262218</td>\n",
       "      <td>0.159603</td>\n",
       "      <td>-0.06586</td>\n",
       "      <td>Malta</td>\n",
       "      <td>emea</td>\n",
       "      <td>western europe</td>\n",
       "      <td>malta</td>\n",
       "      <td>california</td>\n",
       "      <td>land based</td>\n",
       "      <td>s</td>\n",
       "      <td>ro (reverse osmosis)</td>\n",
       "      <td>flash</td>\n",
       "      <td>spiral wound membrane</td>\n",
       "      <td>brackish water or inland water (tds 3000ppm - ...</td>\n",
       "      <td>tourist facilities as drinking water (tds 10pp...</td>\n",
       "      <td>power</td>\n",
       "      <td>private</td>\n",
       "      <td>stand-alone</td>\n",
       "      <td>bkg water solutions</td>\n",
       "      <td>epc</td>\n",
       "      <td>bkg water solutions</td>\n",
       "      <td>dow filmtec (now dupont water solutions)</td>\n",
       "      <td>bkg water solutions</td>\n",
       "      <td>private</td>\n",
       "      <td>ionics, inc.</td>\n",
       "      <td>single pass</td>\n",
       "      <td>electric motor</td>\n",
       "      <td>spiral wound membrane</td>\n",
       "      <td>EU</td>\n",
       "    </tr>\n",
       "    <tr>\n",
       "      <th>3</th>\n",
       "      <td>-0.165986</td>\n",
       "      <td>-0.088518</td>\n",
       "      <td>-0.264835</td>\n",
       "      <td>0.159603</td>\n",
       "      <td>-0.06586</td>\n",
       "      <td>Saudi Arabia</td>\n",
       "      <td>emea</td>\n",
       "      <td>middle east / north africa</td>\n",
       "      <td>dhahran</td>\n",
       "      <td>california</td>\n",
       "      <td>land based</td>\n",
       "      <td>s</td>\n",
       "      <td>ro (reverse osmosis)</td>\n",
       "      <td>flash</td>\n",
       "      <td>spiral wound membrane</td>\n",
       "      <td>brackish water or inland water (tds 3000ppm - ...</td>\n",
       "      <td>tourist facilities as drinking water (tds 10pp...</td>\n",
       "      <td>power</td>\n",
       "      <td>marriott</td>\n",
       "      <td>stand-alone</td>\n",
       "      <td>culligan international company</td>\n",
       "      <td>epc</td>\n",
       "      <td>culligan international company</td>\n",
       "      <td>dupont (now dupont water solutions)</td>\n",
       "      <td>culligan international company</td>\n",
       "      <td>marriott</td>\n",
       "      <td>watera hellas</td>\n",
       "      <td>single pass</td>\n",
       "      <td>electric motor</td>\n",
       "      <td>spiral wound membrane</td>\n",
       "      <td>AS</td>\n",
       "    </tr>\n",
       "    <tr>\n",
       "      <th>4</th>\n",
       "      <td>-0.169816</td>\n",
       "      <td>-0.088518</td>\n",
       "      <td>-0.290401</td>\n",
       "      <td>0.159603</td>\n",
       "      <td>-0.06586</td>\n",
       "      <td>Peru</td>\n",
       "      <td>americas</td>\n",
       "      <td>latin america / caribbean</td>\n",
       "      <td>peru</td>\n",
       "      <td>california</td>\n",
       "      <td>land based</td>\n",
       "      <td>s</td>\n",
       "      <td>ro (reverse osmosis)</td>\n",
       "      <td>flash</td>\n",
       "      <td>spiral wound membrane</td>\n",
       "      <td>seawater (tds 20000ppm - 50000ppm)</td>\n",
       "      <td>industry (tds &lt;10ppm)</td>\n",
       "      <td>power</td>\n",
       "      <td>private</td>\n",
       "      <td>stand-alone</td>\n",
       "      <td>osmotec engineering gmbh (now triton water)</td>\n",
       "      <td>epc</td>\n",
       "      <td>osmotec engineering gmbh (now triton water)</td>\n",
       "      <td>dupont (now dupont water solutions)</td>\n",
       "      <td>triton water ag</td>\n",
       "      <td>private</td>\n",
       "      <td>ionics, inc.</td>\n",
       "      <td>single pass</td>\n",
       "      <td>electric motor</td>\n",
       "      <td>spiral wound membrane</td>\n",
       "      <td>SA</td>\n",
       "    </tr>\n",
       "  </tbody>\n",
       "</table>\n",
       "</div>"
      ],
      "text/plain": [
       "   capacity_(m3/d)     units  unit_size_(m3/d)  plant_supplier_share  \\\n",
       "0         0.044338  0.115968          0.172608              0.159603   \n",
       "1        -0.164387 -0.088518         -0.254166              0.159603   \n",
       "2        -0.165594 -0.088518         -0.262218              0.159603   \n",
       "3        -0.165986 -0.088518         -0.264835              0.159603   \n",
       "4        -0.169816 -0.088518         -0.290401              0.159603   \n",
       "\n",
       "   product_water_salinity       country        region  \\\n",
       "0                -0.06586          Oman          emea   \n",
       "1                -0.06586         Japan  asia pacific   \n",
       "2                -0.06586         Malta          emea   \n",
       "3                -0.06586  Saudi Arabia          emea   \n",
       "4                -0.06586          Peru      americas   \n",
       "\n",
       "                    subregion location state/region location_type size  \\\n",
       "0  middle east / north africa   qalhat   california    land based    m   \n",
       "1         east asia / pacific    hyogo   california    land based    s   \n",
       "2              western europe    malta   california    land based    s   \n",
       "3  middle east / north africa  dhahran   california    land based    s   \n",
       "4   latin america / caribbean     peru   california    land based    s   \n",
       "\n",
       "                        technology                   thermal_design  \\\n",
       "0  med (multi-effect distillation)  tvc (thermal vapor compression)   \n",
       "1             ro (reverse osmosis)                            flash   \n",
       "2             ro (reverse osmosis)                            flash   \n",
       "3             ro (reverse osmosis)                            flash   \n",
       "4             ro (reverse osmosis)                            flash   \n",
       "\n",
       "      membrane_type_(ro)                                          feedwater  \\\n",
       "0  spiral wound membrane                 seawater (tds 20000ppm - 50000ppm)   \n",
       "1  spiral wound membrane                                         wastewater   \n",
       "2  spiral wound membrane  brackish water or inland water (tds 3000ppm - ...   \n",
       "3  spiral wound membrane  brackish water or inland water (tds 3000ppm - ...   \n",
       "4  spiral wound membrane                 seawater (tds 20000ppm - 50000ppm)   \n",
       "\n",
       "                                       customer_type            industry  \\\n",
       "0                              industry (tds <10ppm)  refining/chemicals   \n",
       "1                              industry (tds <10ppm)         electronics   \n",
       "2  tourist facilities as drinking water (tds 10pp...               power   \n",
       "3  tourist facilities as drinking water (tds 10pp...               power   \n",
       "4                              industry (tds <10ppm)               power   \n",
       "\n",
       "   customer   plant_type                               plant_supplier  \\\n",
       "0    omifci  stand-alone                              entropie s.a.s.   \n",
       "1     sanyo  stand-alone                                 unitika ltd.   \n",
       "2   private  stand-alone                          bkg water solutions   \n",
       "3  marriott  stand-alone               culligan international company   \n",
       "4   private  stand-alone  osmotec engineering gmbh (now triton water)   \n",
       "\n",
       "  procurement_model                       epc_contractor_(desal)  \\\n",
       "0               epc                              entropie s.a.s.   \n",
       "1               epc                                 unitika ltd.   \n",
       "2               epc                          bkg water solutions   \n",
       "3               epc               culligan international company   \n",
       "4               epc  osmotec engineering gmbh (now triton water)   \n",
       "\n",
       "  equipment_supplier_:_membranes_(not_specified_/_other)  \\\n",
       "0                dupont (now dupont water solutions)       \n",
       "1                dupont (now dupont water solutions)       \n",
       "2           dow filmtec (now dupont water solutions)       \n",
       "3                dupont (now dupont water solutions)       \n",
       "4                dupont (now dupont water solutions)       \n",
       "\n",
       "                  holding_company plant_owner  bid_submitted    ro_system  \\\n",
       "0                          veolia      omifci         veolia  single pass   \n",
       "1                    unitika ltd.       sanyo  ionics, inc.   single pass   \n",
       "2             bkg water solutions     private  ionics, inc.   single pass   \n",
       "3  culligan international company    marriott  watera hellas  single pass   \n",
       "4                 triton water ag     private  ionics, inc.   single pass   \n",
       "\n",
       "  ro_feed_pump_drive       ro_membrane_type continent  \n",
       "0     electric motor  spiral wound membrane        AS  \n",
       "1     electric motor  spiral wound membrane        AS  \n",
       "2     electric motor  spiral wound membrane        EU  \n",
       "3     electric motor  spiral wound membrane        AS  \n",
       "4     electric motor  spiral wound membrane        SA  "
      ]
     },
     "execution_count": 62,
     "metadata": {},
     "output_type": "execute_result"
    }
   ],
   "source": [
    "X_train_preprocessed.head()"
   ]
  },
  {
   "cell_type": "code",
   "execution_count": 63,
   "id": "0e791968",
   "metadata": {},
   "outputs": [
    {
     "data": {
      "application/vnd.jupyter.widget-view+json": {
       "model_id": "37debb401ad84ccb9dc06d4b5cdfb60e",
       "version_major": 2,
       "version_minor": 0
      },
      "text/plain": [
       "MetricVisualizer(layout=Layout(align_self='stretch', height='500px'))"
      ]
     },
     "metadata": {},
     "output_type": "display_data"
    },
    {
     "data": {
      "text/plain": [
       "<catboost.core.CatBoostRegressor at 0x237f1d1af70>"
      ]
     },
     "execution_count": 63,
     "metadata": {},
     "output_type": "execute_result"
    }
   ],
   "source": [
    "cat_indices = list(range(5,31))\n",
    "model = CatBoostRegressor(iterations=3000,random_seed=42,logging_level='Silent',\n",
    "                          loss_function='MAE',use_best_model=True)\n",
    "model.fit(X=X_train_preprocessed, y=y_train, cat_features=cat_indices,\n",
    "         eval_set=(X_val_preprocessed,y_val), plot=True)"
   ]
  },
  {
   "cell_type": "code",
   "execution_count": 64,
   "id": "2e6fc8df",
   "metadata": {},
   "outputs": [
    {
     "data": {
      "image/png": "[encoded data removed]",
      "text/plain": [
       "<IPython.core.display.Image object>"
      ]
     },
     "execution_count": 64,
     "metadata": {},
     "output_type": "execute_result"
    }
   ],
   "source": [
    "#display training plot\n",
    "from IPython.display import Image\n",
    "Image('training_plot.png')"
   ]
  },
  {
   "cell_type": "markdown",
   "id": "823eb9a6",
   "metadata": {},
   "source": [
    "The model's performance stopped improving after 1376 iterations. Compared to when we trained with some categorical features, the performance is better. What variables and how much did they influence the model's performance?"
   ]
  },
  {
   "cell_type": "code",
   "execution_count": null,
   "id": "eb46d97d",
   "metadata": {},
   "outputs": [],
   "source": []
  },
  {
   "cell_type": "code",
   "execution_count": 65,
   "id": "320548e7",
   "metadata": {},
   "outputs": [
    {
     "data": {
      "image/png": "[encoded data removed]",
      "text/plain": [
       "<Figure size 432x720 with 1 Axes>"
      ]
     },
     "metadata": {
      "needs_background": "light"
     },
     "output_type": "display_data"
    }
   ],
   "source": [
    "plt.figure(figsize=(6,10))\n",
    "importances = sorted(list(zip(model.feature_importances_,model.feature_names_)),reverse=True)\n",
    "x_axis = [x[0] for x in importances]\n",
    "y_axis = [x[1] for x in importances]\n",
    "sns.barplot(x=x_axis,y=y_axis);"
   ]
  },
  {
   "cell_type": "markdown",
   "id": "3c8171d9",
   "metadata": {},
   "source": [
    "Most of the important features were the same variables we considered earlier. However, **feedwater** appears to have a strong influence on price"
   ]
  },
  {
   "cell_type": "code",
   "execution_count": 66,
   "id": "921fc743",
   "metadata": {},
   "outputs": [
    {
     "data": {
      "image/png": "[encoded data removed]",
      "text/plain": [
       "<Figure size 432x288 with 1 Axes>"
      ]
     },
     "metadata": {
      "needs_background": "light"
     },
     "output_type": "display_data"
    }
   ],
   "source": [
    "sns.boxplot(y='feedwater',x='log_price',data=df);"
   ]
  },
  {
   "cell_type": "markdown",
   "id": "92936579",
   "metadata": {},
   "source": [
    "What kind of errors does this model make?"
   ]
  },
  {
   "cell_type": "code",
   "execution_count": 67,
   "id": "d53c4aec",
   "metadata": {},
   "outputs": [
    {
     "data": {
      "image/png": "[encoded data removed]",
      "text/plain": [
       "<Figure size 432x288 with 1 Axes>"
      ]
     },
     "metadata": {
      "needs_background": "light"
     },
     "output_type": "display_data"
    }
   ],
   "source": [
    "val_preds = np.expm1(model.predict(X_val_preprocessed))\n",
    "residuals = abs(val_preds - y_true)\n",
    "sns.scatterplot(y_true,residuals)\n",
    "plt.xlabel('epc_price(usd)')\n",
    "plt.ylabel('residual');"
   ]
  },
  {
   "cell_type": "markdown",
   "id": "ee8f0d4e",
   "metadata": {},
   "source": [
    "The good thing about this model is that the errors have a **positive linear relationship** with the true prices. This implies that the model makes small errors for small plant prices and large errors for large prices"
   ]
  },
  {
   "cell_type": "code",
   "execution_count": 68,
   "id": "56711196",
   "metadata": {},
   "outputs": [
    {
     "data": {
      "text/plain": [
       "0.9933373712901272"
      ]
     },
     "execution_count": 68,
     "metadata": {},
     "output_type": "execute_result"
    }
   ],
   "source": [
    "(y_true < 0.25e9).sum()/len(y_true)"
   ]
  },
  {
   "cell_type": "markdown",
   "id": "d0cc8716",
   "metadata": {},
   "source": [
    "Prices below a quarter billion dollars make up over 99 percent of the validation data"
   ]
  },
  {
   "cell_type": "code",
   "execution_count": 69,
   "id": "720ba394",
   "metadata": {},
   "outputs": [
    {
     "data": {
      "text/plain": [
       "1450265.7913599373"
      ]
     },
     "execution_count": 69,
     "metadata": {},
     "output_type": "execute_result"
    }
   ],
   "source": [
    "mae(y_true[y_true < 0.25e9],val_preds[y_true < 0.25e9])"
   ]
  },
  {
   "cell_type": "markdown",
   "id": "05b53ab3",
   "metadata": {},
   "source": [
    "Let's test the model's performance on the unseen test set"
   ]
  },
  {
   "cell_type": "code",
   "execution_count": 70,
   "id": "df2676c1",
   "metadata": {},
   "outputs": [
    {
     "data": {
      "text/plain": [
       "0.1208312661222184"
      ]
     },
     "execution_count": 70,
     "metadata": {},
     "output_type": "execute_result"
    }
   ],
   "source": [
    "test_predictions = model.predict(X_test_preprocessed)\n",
    "mae(y_test,test_predictions)"
   ]
  },
  {
   "cell_type": "markdown",
   "id": "1639b990",
   "metadata": {},
   "source": [
    "Performance on the test set mirrors that on the validation set. So, we anticipate that this model will generalize well over unseen data"
   ]
  },
  {
   "cell_type": "code",
   "execution_count": 82,
   "id": "aca82610",
   "metadata": {},
   "outputs": [
    {
     "data": {
      "text/plain": [
       "Index(['country', 'region', 'subregion', 'location', 'state/region',\n",
       "       'location_type', 'project_name', 'capacity_(m3/d)', 'size',\n",
       "       'capacity_(mgd)', 'capacity_(migd)', 'units', 'unit_size_(m3/d)',\n",
       "       'unit_size_(mgd)', 'unit_size_(migd)', 'technology', 'thermal_design',\n",
       "       'membrane_type_(ro)', 'feedwater', 'award_date', 'online_date',\n",
       "       'customer_type', 'industry', 'customer', 'plant_status', 'plant_type',\n",
       "       'plant_supplier', 'plant_supplier_share', 'procurement_model',\n",
       "       'epc_price', 'last_update', 'product_water_salinity',\n",
       "       'epc_contractor_(desal)',\n",
       "       'equipment_supplier_:_membranes_(not_specified_/_other)',\n",
       "       'holding_company', 'plant_owner', 'bid_submitted', 'ro_system',\n",
       "       'ro_feed_pump_drive', 'ro_membrane_type', 'currency', 'epc_price(usd)',\n",
       "       'log_price', 'continent'],\n",
       "      dtype='object')"
      ]
     },
     "execution_count": 82,
     "metadata": {},
     "output_type": "execute_result"
    }
   ],
   "source": [
    "df.columns"
   ]
  },
  {
   "cell_type": "code",
   "execution_count": 88,
   "id": "e63e52d7",
   "metadata": {},
   "outputs": [
    {
     "data": {
      "text/plain": [
       "s     6410\n",
       "m     3148\n",
       "l      544\n",
       "xl     132\n",
       "Name: size, dtype: int64"
      ]
     },
     "execution_count": 88,
     "metadata": {},
     "output_type": "execute_result"
    }
   ],
   "source": [
    "df[df['epc_price(usd)']<0.25e9]['size'].value_counts()"
   ]
  },
  {
   "cell_type": "code",
   "execution_count": 90,
   "id": "4253f4d6",
   "metadata": {},
   "outputs": [
    {
     "data": {
      "text/plain": [
       "xl    0.972973\n",
       "l     0.027027\n",
       "Name: size, dtype: float64"
      ]
     },
     "execution_count": 90,
     "metadata": {},
     "output_type": "execute_result"
    }
   ],
   "source": [
    "df[df['epc_price(usd)']>0.25e9]['size'].value_counts(normalize=True)"
   ]
  },
  {
   "cell_type": "code",
   "execution_count": 103,
   "id": "09be9469",
   "metadata": {},
   "outputs": [
    {
     "data": {
      "image/png": "[encoded data removed]",
      "text/plain": [
       "<Figure size 1080x720 with 10 Axes>"
      ]
     },
     "metadata": {
      "needs_background": "light"
     },
     "output_type": "display_data"
    }
   ],
   "source": [
    "X_val_preprocessed = preprocess_1(X_val,num_imputer,cat_imputer,scaler,encoder)\n",
    "# to create a dashboard for the boxplots\n",
    "f,axes=plt.subplots(2,5, sharey=True, figsize=(15,10))\n",
    "\n",
    "# to plot the boxplots on the dashboard\n",
    "for i in range(len(models)):\n",
    "    row = i//5\n",
    "    col = i%5\n",
    "    val_preds = np.expm1(models[i].predict(X_val_preprocessed))\n",
    "    residuals = abs(val_preds - y_true)\n",
    "    sns.scatterplot(y_true,residuals,ax = axes[row,col])\n",
    "    plt.xlabel('epc_price(usd)')\n",
    "    plt.ylabel('residual');"
   ]
  },
  {
   "cell_type": "code",
   "execution_count": 109,
   "id": "aa3f31f2",
   "metadata": {},
   "outputs": [
    {
     "data": {
      "text/plain": [
       "Index(['country', 'region', 'subregion', 'location', 'state/region',\n",
       "       'location_type', 'project_name', 'capacity_(m3/d)', 'size',\n",
       "       'capacity_(mgd)', 'capacity_(migd)', 'units', 'unit_size_(m3/d)',\n",
       "       'unit_size_(mgd)', 'unit_size_(migd)', 'technology', 'thermal_design',\n",
       "       'membrane_type_(ro)', 'feedwater', 'award_date', 'online_date',\n",
       "       'customer_type', 'industry', 'customer', 'plant_status', 'plant_type',\n",
       "       'plant_supplier', 'plant_supplier_share', 'procurement_model',\n",
       "       'epc_price', 'last_update', 'product_water_salinity',\n",
       "       'epc_contractor_(desal)',\n",
       "       'equipment_supplier_:_membranes_(not_specified_/_other)',\n",
       "       'holding_company', 'plant_owner', 'bid_submitted', 'ro_system',\n",
       "       'ro_feed_pump_drive', 'ro_membrane_type', 'currency', 'epc_price(usd)',\n",
       "       'log_price', 'continent'],\n",
       "      dtype='object')"
      ]
     },
     "execution_count": 109,
     "metadata": {},
     "output_type": "execute_result"
    }
   ],
   "source": [
    "df.columns"
   ]
  },
  {
   "cell_type": "code",
   "execution_count": 115,
   "id": "045bbccb",
   "metadata": {},
   "outputs": [
    {
     "data": {
      "text/plain": [
       "spiral wound membrane            4155\n",
       "hollow fibre membrane            1237\n",
       "flat membrane (fm)                 93\n",
       "tube membrane                      36\n",
       "dual membrane plant (hfm/swm)       3\n",
       "sw / fm dual membrane               1\n",
       "other                               1\n",
       "Name: membrane_type_(ro), dtype: int64"
      ]
     },
     "execution_count": 115,
     "metadata": {},
     "output_type": "execute_result"
    }
   ],
   "source": [
    "df['membrane_type_(ro)'].value_counts()"
   ]
  },
  {
   "cell_type": "code",
   "execution_count": 110,
   "id": "df7490de",
   "metadata": {},
   "outputs": [
    {
     "name": "stdout",
     "output_type": "stream",
     "text": [
      "<class 'pandas.core.frame.DataFrame'>\n",
      "Int64Index: 10314 entries, 4 to 21928\n",
      "Data columns (total 44 columns):\n",
      " #   Column                                                  Non-Null Count  Dtype         \n",
      "---  ------                                                  --------------  -----         \n",
      " 0   country                                                 10314 non-null  object        \n",
      " 1   region                                                  10314 non-null  object        \n",
      " 2   subregion                                               10314 non-null  object        \n",
      " 3   location                                                9502 non-null   object        \n",
      " 4   state/region                                            3077 non-null   object        \n",
      " 5   location_type                                           10305 non-null  object        \n",
      " 6   project_name                                            10313 non-null  object        \n",
      " 7   capacity_(m3/d)                                         10311 non-null  float64       \n",
      " 8   size                                                    10310 non-null  object        \n",
      " 9   capacity_(mgd)                                          10311 non-null  float64       \n",
      " 10  capacity_(migd)                                         10311 non-null  float64       \n",
      " 11  units                                                   10102 non-null  float64       \n",
      " 12  unit_size_(m3/d)                                        10099 non-null  float64       \n",
      " 13  unit_size_(mgd)                                         10099 non-null  float64       \n",
      " 14  unit_size_(migd)                                        10099 non-null  float64       \n",
      " 15  technology                                              10314 non-null  object        \n",
      " 16  thermal_design                                          1209 non-null   object        \n",
      " 17  membrane_type_(ro)                                      5526 non-null   object        \n",
      " 18  feedwater                                               10313 non-null  object        \n",
      " 19  award_date                                              10313 non-null  float64       \n",
      " 20  online_date                                             10308 non-null  float64       \n",
      " 21  customer_type                                           10311 non-null  object        \n",
      " 22  industry                                                2528 non-null   object        \n",
      " 23  customer                                                4410 non-null   object        \n",
      " 24  plant_status                                            10314 non-null  object        \n",
      " 25  plant_type                                              10173 non-null  object        \n",
      " 26  plant_supplier                                          9526 non-null   object        \n",
      " 27  plant_supplier_share                                    9182 non-null   float64       \n",
      " 28  procurement_model                                       10297 non-null  object        \n",
      " 29  epc_price                                               10314 non-null  int64         \n",
      " 30  last_update                                             10314 non-null  datetime64[ns]\n",
      " 31  product_water_salinity                                  1105 non-null   float64       \n",
      " 32  epc_contractor_(desal)                                  9267 non-null   object        \n",
      " 33  equipment_supplier_:_membranes_(not_specified_/_other)  5023 non-null   object        \n",
      " 34  holding_company                                         9267 non-null   object        \n",
      " 35  plant_owner                                             4410 non-null   object        \n",
      " 36  bid_submitted                                           5855 non-null   object        \n",
      " 37  ro_system                                               6781 non-null   object        \n",
      " 38  ro_feed_pump_drive                                      6755 non-null   object        \n",
      " 39  ro_membrane_type                                        5526 non-null   object        \n",
      " 40  currency                                                10314 non-null  object        \n",
      " 41  epc_price(usd)                                          10314 non-null  float64       \n",
      " 42  log_price                                               10314 non-null  float64       \n",
      " 43  continent                                               10314 non-null  object        \n",
      "dtypes: datetime64[ns](1), float64(13), int64(1), object(29)\n",
      "memory usage: 3.8+ MB\n"
     ]
    }
   ],
   "source": [
    "df.info()"
   ]
  },
  {
   "cell_type": "code",
   "execution_count": null,
   "id": "740afa57",
   "metadata": {},
   "outputs": [],
   "source": [
    "##TO DO\n",
    "# drop correlated columns\n",
    "# 10 most occuring\n",
    "# another level for missing values\n",
    "# effect of inflation on prices\n",
    "# feature_engineering\n",
    "# feature_selection\n",
    "# stacking\n",
    "# protototyping"
   ]
  }
 ],
 "metadata": {
  "kernelspec": {
   "display_name": "Python 3 (ipykernel)",
   "language": "python",
   "name": "python3"
  },
  "language_info": {
   "codemirror_mode": {
    "name": "ipython",
    "version": 3
   },
   "file_extension": ".py",
   "mimetype": "text/x-python",
   "name": "python",
   "nbconvert_exporter": "python",
   "pygments_lexer": "ipython3",
   "version": "3.9.12"
  }
 },
 "nbformat": 4,
 "nbformat_minor": 5
}
